{
  "nbformat": 4,
  "nbformat_minor": 0,
  "metadata": {
    "colab": {
      "name": "Forecast Salaries for end of 2020 and 2021 in Serbia GPU [Forecasting] part 2.ipynb",
      "provenance": [],
      "authorship_tag": "ABX9TyN0lW3qzkkasu9bHjmsfqy9",
      "include_colab_link": true
    },
    "kernelspec": {
      "name": "python3",
      "display_name": "Python 3"
    },
    "accelerator": "GPU"
  },
  "cells": [
    {
      "cell_type": "markdown",
      "metadata": {
        "id": "view-in-github",
        "colab_type": "text"
      },
      "source": [
        "<a href=\"https://colab.research.google.com/github/dpetrovic89/Forecast-Salaries-for-end-of-2020-and-2021-in-Serbia/blob/main/Forecast_Salaries_for_end_of_2020_and_2021_in_Serbia_GPU_%5BForecasting%5D_part_2.ipynb\" target=\"_parent\"><img src=\"https://colab.research.google.com/assets/colab-badge.svg\" alt=\"Open In Colab\"/></a>"
      ]
    },
    {
      "cell_type": "markdown",
      "metadata": {
        "id": "NoHSPfckYOee"
      },
      "source": [
        "# Install Libraries\r\n"
      ]
    },
    {
      "cell_type": "code",
      "metadata": {
        "id": "yDhZsr8yTsOu"
      },
      "source": [
        "import pandas as pd\r\n",
        "\r\n",
        "import numpy as np"
      ],
      "execution_count": 1,
      "outputs": []
    },
    {
      "cell_type": "code",
      "metadata": {
        "colab": {
          "base_uri": "https://localhost:8080/",
          "height": 1000
        },
        "id": "_jE7mnb5Uoxl",
        "outputId": "62f818bc-3487-41f9-ff5f-b8d448f72e54"
      },
      "source": [
        "!pip install atspy"
      ],
      "execution_count": 2,
      "outputs": [
        {
          "output_type": "stream",
          "text": [
            "Collecting atspy\n",
            "  Downloading https://files.pythonhosted.org/packages/cc/71/5f16915ea3b37fae4b3057df965e628b5a1dbfe552a6ddf8b14a64a111d6/atspy-0.2.8.tar.gz\n",
            "Collecting cachetools==4.0.0\n",
            "  Downloading https://files.pythonhosted.org/packages/08/6a/abf83cb951617793fd49c98cb9456860f5df66ff89883c8660aa0672d425/cachetools-4.0.0-py3-none-any.whl\n",
            "Collecting Cython==0.29.14\n",
            "\u001b[?25l  Downloading https://files.pythonhosted.org/packages/df/d1/4d3f8a7a920e805488a966cc6ab55c978a712240f584445d703c08b9f405/Cython-0.29.14-cp36-cp36m-manylinux1_x86_64.whl (2.1MB)\n",
            "\u001b[K     |████████████████████████████████| 2.1MB 9.1MB/s \n",
            "\u001b[?25hRequirement already satisfied: dataclasses in /usr/local/lib/python3.6/dist-packages (from atspy) (0.8)\n",
            "Collecting DateTime==4.3\n",
            "\u001b[?25l  Downloading https://files.pythonhosted.org/packages/73/22/a5297f3a1f92468cc737f8ce7ba6e5f245fcfafeae810ba37bd1039ea01c/DateTime-4.3-py2.py3-none-any.whl (60kB)\n",
            "\u001b[K     |████████████████████████████████| 61kB 9.4MB/s \n",
            "\u001b[?25hCollecting decorator==4.4.1\n",
            "  Downloading https://files.pythonhosted.org/packages/8f/b7/f329cfdc75f3d28d12c65980e4469e2fa373f1953f5df6e370e84ea2e875/decorator-4.4.1-py2.py3-none-any.whl\n",
            "Requirement already satisfied: easydict==1.9 in /usr/local/lib/python3.6/dist-packages (from atspy) (1.9)\n",
            "Collecting fbprophet==0.5\n",
            "\u001b[?25l  Downloading https://files.pythonhosted.org/packages/33/fb/ad98d46773929079657706e6b2b6e366ba6c282bc2397d8f9b0ea8e5614c/fbprophet-0.5.tar.gz (49kB)\n",
            "\u001b[K     |████████████████████████████████| 51kB 8.8MB/s \n",
            "\u001b[?25hCollecting gluonts==0.4.2\n",
            "\u001b[?25l  Downloading https://files.pythonhosted.org/packages/98/c8/113009b077ca127308470dcd4851e53a6b4ad905fe61f36f28d22ff3a4a5/gluonts-0.4.2-py3-none-any.whl (323kB)\n",
            "\u001b[K     |████████████████████████████████| 327kB 49.1MB/s \n",
            "\u001b[?25hCollecting gunicorn==20.0.4\n",
            "\u001b[?25l  Downloading https://files.pythonhosted.org/packages/69/ca/926f7cd3a2014b16870086b2d0fdc84a9e49473c68a8dff8b57f7c156f43/gunicorn-20.0.4-py2.py3-none-any.whl (77kB)\n",
            "\u001b[K     |████████████████████████████████| 81kB 11.5MB/s \n",
            "\u001b[?25hCollecting Keras==2.2.5\n",
            "\u001b[?25l  Downloading https://files.pythonhosted.org/packages/f8/ba/2d058dcf1b85b9c212cc58264c98a4a7dd92c989b798823cc5690d062bb2/Keras-2.2.5-py2.py3-none-any.whl (336kB)\n",
            "\u001b[K     |████████████████████████████████| 337kB 60.0MB/s \n",
            "\u001b[?25hRequirement already satisfied: lightgbm==2.2.3 in /usr/local/lib/python3.6/dist-packages (from atspy) (2.2.3)\n",
            "Collecting matplotlib==3.1.2\n",
            "\u001b[?25l  Downloading https://files.pythonhosted.org/packages/4e/11/06958a2b895a3853206dea1fb2a5b11bf044f626f90745987612af9c8f2c/matplotlib-3.1.2-cp36-cp36m-manylinux1_x86_64.whl (13.1MB)\n",
            "\u001b[K     |████████████████████████████████| 13.1MB 225kB/s \n",
            "\u001b[?25hCollecting mxnet-cu100==1.4.1\n",
            "\u001b[33m  WARNING: Retrying (Retry(total=4, connect=None, read=None, redirect=None, status=None)) after connection broken by 'ReadTimeoutError(\"HTTPSConnectionPool(host='files.pythonhosted.org', port=443): Read timed out. (read timeout=15)\",)': /packages/19/91/b5c2692297aa5b8c383e0da18f9208fc6d5519d981c03266abfbde897c41/mxnet_cu100-1.4.1-py2.py3-none-manylinux1_x86_64.whl\u001b[0m\n",
            "\u001b[?25l  Downloading https://files.pythonhosted.org/packages/19/91/b5c2692297aa5b8c383e0da18f9208fc6d5519d981c03266abfbde897c41/mxnet_cu100-1.4.1-py2.py3-none-manylinux1_x86_64.whl (488.3MB)\n",
            "\u001b[K     |████████████████████████████████| 488.3MB 35kB/s \n",
            "\u001b[?25hCollecting numba==0.47.0\n",
            "\u001b[?25l  Downloading https://files.pythonhosted.org/packages/f8/7d/f2b5ea8d5952115351e303d1aadbdd1c5b08f479d76456d43a5d7a3a8c88/numba-0.47.0-cp36-cp36m-manylinux1_x86_64.whl (3.7MB)\n",
            "\u001b[K     |████████████████████████████████| 3.7MB 55.5MB/s \n",
            "\u001b[?25hRequirement already satisfied: numexpr==2.7.1 in /usr/local/lib/python3.6/dist-packages (from atspy) (2.7.1)\n",
            "Collecting pandas==0.25.3\n",
            "\u001b[?25l  Downloading https://files.pythonhosted.org/packages/52/3f/f6a428599e0d4497e1595030965b5ba455fd8ade6e977e3c819973c4b41d/pandas-0.25.3-cp36-cp36m-manylinux1_x86_64.whl (10.4MB)\n",
            "\u001b[K     |████████████████████████████████| 10.4MB 59.0MB/s \n",
            "\u001b[?25hCollecting pip-tools==4.2.0\n",
            "\u001b[?25l  Downloading https://files.pythonhosted.org/packages/53/aa/d0a0ae1e73eae5662be9df49468f1124f7f3229368a40619ab69eeb54f35/pip_tools-4.2.0-py2.py3-none-any.whl (40kB)\n",
            "\u001b[K     |████████████████████████████████| 40kB 7.3MB/s \n",
            "\u001b[?25hCollecting pmdarima==1.5.2\n",
            "\u001b[?25l  Downloading https://files.pythonhosted.org/packages/4a/1a/32945c19306212fd08547369f40c8965bbc9e18652bb241766dfab398710/pmdarima-1.5.2-cp36-cp36m-manylinux1_x86_64.whl (1.4MB)\n",
            "\u001b[K     |████████████████████████████████| 1.5MB 48.6MB/s \n",
            "\u001b[?25hRequirement already satisfied: psutil==5.4.8 in /usr/local/lib/python3.6/dist-packages (from atspy) (5.4.8)\n",
            "Requirement already satisfied: psycopg2==2.7.6.1 in /usr/local/lib/python3.6/dist-packages (from atspy) (2.7.6.1)\n",
            "Collecting scikit-learn==0.22.1\n",
            "\u001b[?25l  Downloading https://files.pythonhosted.org/packages/d1/48/e9fa9e252abcd1447eff6f9257636af31758a6e46fd5ce5d3c879f6907cb/scikit_learn-0.22.1-cp36-cp36m-manylinux1_x86_64.whl (7.0MB)\n",
            "\u001b[K     |████████████████████████████████| 7.1MB 9.6MB/s \n",
            "\u001b[?25hRequirement already satisfied: scipy==1.4.1 in /usr/local/lib/python3.6/dist-packages (from atspy) (1.4.1)\n",
            "Collecting seaborn==0.9.1\n",
            "\u001b[?25l  Downloading https://files.pythonhosted.org/packages/b2/86/43b8c9138ef4c2a1c492fee92792c83c13799d0e2061ff810d3826d06cd1/seaborn-0.9.1-py2.py3-none-any.whl (216kB)\n",
            "\u001b[K     |████████████████████████████████| 225kB 64.3MB/s \n",
            "\u001b[?25hRequirement already satisfied: sklearn==0.0 in /usr/local/lib/python3.6/dist-packages (from atspy) (0.0)\n",
            "Requirement already satisfied: statsmodels==0.10.2 in /usr/local/lib/python3.6/dist-packages (from atspy) (0.10.2)\n",
            "Requirement already satisfied: sympy==1.1.1 in /usr/local/lib/python3.6/dist-packages (from atspy) (1.1.1)\n",
            "Collecting tbats==1.0.9\n",
            "\u001b[?25l  Downloading https://files.pythonhosted.org/packages/5e/f2/04545b598030cd72807847d9230a5db619658be3a650e112ed18acb3a122/tbats-1.0.9-py3-none-any.whl (43kB)\n",
            "\u001b[K     |████████████████████████████████| 51kB 5.4MB/s \n",
            "\u001b[?25hCollecting tblib==1.6.0\n",
            "  Downloading https://files.pythonhosted.org/packages/0d/de/dca3e651ca62e59c08d324f4a51467fa4b8cbeaafb883b5e83720b4d4a47/tblib-1.6.0-py2.py3-none-any.whl\n",
            "Collecting tensorflow==1.15.0\n",
            "\u001b[?25l  Downloading https://files.pythonhosted.org/packages/3f/98/5a99af92fb911d7a88a0005ad55005f35b4c1ba8d75fba02df726cd936e6/tensorflow-1.15.0-cp36-cp36m-manylinux2010_x86_64.whl (412.3MB)\n",
            "\u001b[K     |████████████████████████████████| 412.3MB 41kB/s \n",
            "\u001b[?25hCollecting tflearn==0.3.2\n",
            "\u001b[?25l  Downloading https://files.pythonhosted.org/packages/16/ec/e9ce1b52e71f6dff3bd944f020cef7140779e783ab27512ea7c7275ddee5/tflearn-0.3.2.tar.gz (98kB)\n",
            "\u001b[K     |████████████████████████████████| 102kB 26kB/s \n",
            "\u001b[?25hCollecting torch==1.4.0\n",
            "\u001b[?25l  Downloading https://files.pythonhosted.org/packages/24/19/4804aea17cd136f1705a5e98a00618cb8f6ccc375ad8bfa437408e09d058/torch-1.4.0-cp36-cp36m-manylinux1_x86_64.whl (753.4MB)\n",
            "\u001b[K     |████████████████████████████████| 753.4MB 25kB/s \n",
            "\u001b[?25hCollecting tqdm==4.28.1\n",
            "\u001b[?25l  Downloading https://files.pythonhosted.org/packages/91/55/8cb23a97301b177e9c8e3226dba45bb454411de2cbd25746763267f226c2/tqdm-4.28.1-py2.py3-none-any.whl (45kB)\n",
            "\u001b[K     |████████████████████████████████| 51kB 8.6MB/s \n",
            "\u001b[?25hCollecting tsfresh==0.14.1\n",
            "\u001b[?25l  Downloading https://files.pythonhosted.org/packages/bc/a0/14bc9fbc3391536965305a3c3697b23bb7a5d52c0d49d5e4a7ad54d534cc/tsfresh-0.14.1-py2.py3-none-any.whl (77kB)\n",
            "\u001b[K     |████████████████████████████████| 81kB 12.4MB/s \n",
            "\u001b[?25hRequirement already satisfied: tweepy==3.6.0 in /usr/local/lib/python3.6/dist-packages (from atspy) (3.6.0)\n",
            "Collecting typing==3.6.6\n",
            "  Downloading https://files.pythonhosted.org/packages/4a/bd/eee1157fc2d8514970b345d69cb9975dcd1e42cd7e61146ed841f6e68309/typing-3.6.6-py3-none-any.whl\n",
            "Collecting typing-extensions==3.6.6\n",
            "  Downloading https://files.pythonhosted.org/packages/62/4f/392a1fa2873e646f5990eb6f956e662d8a235ab474450c72487745f67276/typing_extensions-3.6.6-py3-none-any.whl\n",
            "Requirement already satisfied: xlrd==1.1.0 in /usr/local/lib/python3.6/dist-packages (from atspy) (1.1.0)\n",
            "Collecting seasonal==0.3.1\n",
            "  Downloading https://files.pythonhosted.org/packages/74/ec/1d6053a5bb05bf72a720772575b85a0a1599314e1ca2d6eba9000d75f4b8/seasonal-0.3.1-py2.py3-none-any.whl\n",
            "Collecting nbeats-pytorch==1.3.0\n",
            "  Downloading https://files.pythonhosted.org/packages/5c/b1/8718eb745b993d00f176d736e3aeb6850aa97eb6e279ff13493f9e4f3b93/nbeats_pytorch-1.3.0-py3-none-any.whl\n",
            "Collecting numpy==1.17.4\n",
            "\u001b[?25l  Downloading https://files.pythonhosted.org/packages/d2/ab/43e678759326f728de861edbef34b8e2ad1b1490505f20e0d1f0716c3bf4/numpy-1.17.4-cp36-cp36m-manylinux1_x86_64.whl (20.0MB)\n",
            "\u001b[K     |████████████████████████████████| 20.0MB 1.2MB/s \n",
            "\u001b[?25hCollecting pydantic==1.4\n",
            "\u001b[?25l  Downloading https://files.pythonhosted.org/packages/be/9a/a2d9613a70051615a84df6e9d697aad9787ba978bdeb4ad46c754457b3e1/pydantic-1.4-cp36-cp36m-manylinux2010_x86_64.whl (7.5MB)\n",
            "\u001b[K     |████████████████████████████████| 7.5MB 29.7MB/s \n",
            "\u001b[?25hCollecting zope.interface\n",
            "\u001b[?25l  Downloading https://files.pythonhosted.org/packages/82/b0/da8afd9b3bd50c7665ecdac062f182982af1173c9081f9af7261091c5588/zope.interface-5.2.0-cp36-cp36m-manylinux2010_x86_64.whl (236kB)\n",
            "\u001b[K     |████████████████████████████████| 245kB 58.0MB/s \n",
            "\u001b[?25hRequirement already satisfied: pytz in /usr/local/lib/python3.6/dist-packages (from DateTime==4.3->atspy) (2018.9)\n",
            "Requirement already satisfied: pystan>=2.14 in /usr/local/lib/python3.6/dist-packages (from fbprophet==0.5->atspy) (2.19.1.1)\n",
            "Collecting lunardate>=0.1.5\n",
            "  Downloading https://files.pythonhosted.org/packages/4e/7e/377a3cbba646ec0cf79433ef858881d809a3b87eb887b0901cb83c66a758/lunardate-0.2.0-py3-none-any.whl\n",
            "Requirement already satisfied: convertdate>=2.1.2 in /usr/local/lib/python3.6/dist-packages (from fbprophet==0.5->atspy) (2.2.0)\n",
            "Requirement already satisfied: holidays>=0.9.5 in /usr/local/lib/python3.6/dist-packages (from fbprophet==0.5->atspy) (0.10.4)\n",
            "Requirement already satisfied: setuptools-git>=1.2 in /usr/local/lib/python3.6/dist-packages (from fbprophet==0.5->atspy) (1.2)\n",
            "Collecting ujson~=1.35\n",
            "\u001b[?25l  Downloading https://files.pythonhosted.org/packages/16/c4/79f3409bc710559015464e5f49b9879430d8f87498ecdc335899732e5377/ujson-1.35.tar.gz (192kB)\n",
            "\u001b[K     |████████████████████████████████| 194kB 57.9MB/s \n",
            "\u001b[?25hCollecting boto3~=1.0\n",
            "\u001b[?25l  Downloading https://files.pythonhosted.org/packages/48/f7/67b17c83da4e3f3c258aa42f98d5a86e931a932abe3f98dba01b7ad8e379/boto3-1.16.42-py2.py3-none-any.whl (130kB)\n",
            "\u001b[K     |████████████████████████████████| 133kB 52.2MB/s \n",
            "\u001b[?25hCollecting python-dateutil==2.8.0\n",
            "\u001b[?25l  Downloading https://files.pythonhosted.org/packages/41/17/c62faccbfbd163c7f57f3844689e3a78bae1f403648a6afb1d0866d87fbb/python_dateutil-2.8.0-py2.py3-none-any.whl (226kB)\n",
            "\u001b[K     |████████████████████████████████| 235kB 61.3MB/s \n",
            "\u001b[?25hRequirement already satisfied: setuptools>=3.0 in /usr/local/lib/python3.6/dist-packages (from gunicorn==20.0.4->atspy) (51.0.0)\n",
            "Requirement already satisfied: six>=1.9.0 in /usr/local/lib/python3.6/dist-packages (from Keras==2.2.5->atspy) (1.15.0)\n",
            "Requirement already satisfied: h5py in /usr/local/lib/python3.6/dist-packages (from Keras==2.2.5->atspy) (2.10.0)\n",
            "Collecting keras-applications>=1.0.8\n",
            "\u001b[?25l  Downloading https://files.pythonhosted.org/packages/71/e3/19762fdfc62877ae9102edf6342d71b28fbfd9dea3d2f96a882ce099b03f/Keras_Applications-1.0.8-py3-none-any.whl (50kB)\n",
            "\u001b[K     |████████████████████████████████| 51kB 8.5MB/s \n",
            "\u001b[?25hRequirement already satisfied: pyyaml in /usr/local/lib/python3.6/dist-packages (from Keras==2.2.5->atspy) (3.13)\n",
            "Requirement already satisfied: keras-preprocessing>=1.1.0 in /usr/local/lib/python3.6/dist-packages (from Keras==2.2.5->atspy) (1.1.2)\n",
            "Requirement already satisfied: kiwisolver>=1.0.1 in /usr/local/lib/python3.6/dist-packages (from matplotlib==3.1.2->atspy) (1.3.1)\n",
            "Requirement already satisfied: cycler>=0.10 in /usr/local/lib/python3.6/dist-packages (from matplotlib==3.1.2->atspy) (0.10.0)\n",
            "Requirement already satisfied: pyparsing!=2.0.4,!=2.1.2,!=2.1.6,>=2.0.1 in /usr/local/lib/python3.6/dist-packages (from matplotlib==3.1.2->atspy) (2.4.7)\n",
            "Collecting graphviz<0.9.0,>=0.8.1\n",
            "  Downloading https://files.pythonhosted.org/packages/53/39/4ab213673844e0c004bed8a0781a0721a3f6bb23eb8854ee75c236428892/graphviz-0.8.4-py2.py3-none-any.whl\n",
            "Requirement already satisfied: requests>=2.20.0 in /usr/local/lib/python3.6/dist-packages (from mxnet-cu100==1.4.1->atspy) (2.23.0)\n",
            "Requirement already satisfied: llvmlite>=0.31.0dev0 in /usr/local/lib/python3.6/dist-packages (from numba==0.47.0->atspy) (0.31.0)\n",
            "Requirement already satisfied: click>=6 in /usr/local/lib/python3.6/dist-packages (from pip-tools==4.2.0->atspy) (7.1.2)\n",
            "Requirement already satisfied: joblib>=0.11 in /usr/local/lib/python3.6/dist-packages (from pmdarima==1.5.2->atspy) (1.0.0)\n",
            "Requirement already satisfied: patsy>=0.4.0 in /usr/local/lib/python3.6/dist-packages (from statsmodels==0.10.2->atspy) (0.5.1)\n",
            "Requirement already satisfied: mpmath>=0.19 in /usr/local/lib/python3.6/dist-packages (from sympy==1.1.1->atspy) (1.1.0)\n",
            "Requirement already satisfied: protobuf>=3.6.1 in /usr/local/lib/python3.6/dist-packages (from tensorflow==1.15.0->atspy) (3.12.4)\n",
            "Requirement already satisfied: termcolor>=1.1.0 in /usr/local/lib/python3.6/dist-packages (from tensorflow==1.15.0->atspy) (1.1.0)\n",
            "Collecting tensorboard<1.16.0,>=1.15.0\n",
            "\u001b[?25l  Downloading https://files.pythonhosted.org/packages/1e/e9/d3d747a97f7188f48aa5eda486907f3b345cd409f0a0850468ba867db246/tensorboard-1.15.0-py3-none-any.whl (3.8MB)\n",
            "\u001b[K     |████████████████████████████████| 3.8MB 42.8MB/s \n",
            "\u001b[?25hRequirement already satisfied: wrapt>=1.11.1 in /usr/local/lib/python3.6/dist-packages (from tensorflow==1.15.0->atspy) (1.12.1)\n",
            "Requirement already satisfied: absl-py>=0.7.0 in /usr/local/lib/python3.6/dist-packages (from tensorflow==1.15.0->atspy) (0.10.0)\n",
            "Collecting gast==0.2.2\n",
            "  Downloading https://files.pythonhosted.org/packages/4e/35/11749bf99b2d4e3cceb4d55ca22590b0d7c2c62b9de38ac4a4a7f4687421/gast-0.2.2.tar.gz\n",
            "Requirement already satisfied: opt-einsum>=2.3.2 in /usr/local/lib/python3.6/dist-packages (from tensorflow==1.15.0->atspy) (3.3.0)\n",
            "Requirement already satisfied: grpcio>=1.8.6 in /usr/local/lib/python3.6/dist-packages (from tensorflow==1.15.0->atspy) (1.32.0)\n",
            "Requirement already satisfied: astor>=0.6.0 in /usr/local/lib/python3.6/dist-packages (from tensorflow==1.15.0->atspy) (0.8.1)\n",
            "Requirement already satisfied: google-pasta>=0.1.6 in /usr/local/lib/python3.6/dist-packages (from tensorflow==1.15.0->atspy) (0.2.0)\n",
            "Collecting tensorflow-estimator==1.15.1\n",
            "\u001b[?25l  Downloading https://files.pythonhosted.org/packages/de/62/2ee9cd74c9fa2fa450877847ba560b260f5d0fb70ee0595203082dafcc9d/tensorflow_estimator-1.15.1-py2.py3-none-any.whl (503kB)\n",
            "\u001b[K     |████████████████████████████████| 512kB 56.3MB/s \n",
            "\u001b[?25hRequirement already satisfied: wheel>=0.26 in /usr/local/lib/python3.6/dist-packages (from tensorflow==1.15.0->atspy) (0.36.2)\n",
            "Requirement already satisfied: Pillow in /usr/local/lib/python3.6/dist-packages (from tflearn==0.3.2->atspy) (7.0.0)\n",
            "Requirement already satisfied: dask[dataframe]>=0.15.2 in /usr/local/lib/python3.6/dist-packages (from tsfresh==0.14.1->atspy) (2.12.0)\n",
            "Requirement already satisfied: distributed>=1.18.3 in /usr/local/lib/python3.6/dist-packages (from tsfresh==0.14.1->atspy) (1.25.3)\n",
            "Requirement already satisfied: PySocks>=1.5.7 in /usr/local/lib/python3.6/dist-packages (from tweepy==3.6.0->atspy) (1.7.1)\n",
            "Requirement already satisfied: requests-oauthlib>=0.7.0 in /usr/local/lib/python3.6/dist-packages (from tweepy==3.6.0->atspy) (1.3.0)\n",
            "Requirement already satisfied: torchvision in /usr/local/lib/python3.6/dist-packages (from nbeats-pytorch==1.3.0->atspy) (0.8.1+cu101)\n",
            "Requirement already satisfied: pymeeus<=1,>=0.3.6 in /usr/local/lib/python3.6/dist-packages (from convertdate>=2.1.2->fbprophet==0.5->atspy) (0.3.7)\n",
            "Requirement already satisfied: korean-lunar-calendar in /usr/local/lib/python3.6/dist-packages (from holidays>=0.9.5->fbprophet==0.5->atspy) (0.2.1)\n",
            "Collecting s3transfer<0.4.0,>=0.3.0\n",
            "\u001b[?25l  Downloading https://files.pythonhosted.org/packages/69/79/e6afb3d8b0b4e96cefbdc690f741d7dd24547ff1f94240c997a26fa908d3/s3transfer-0.3.3-py2.py3-none-any.whl (69kB)\n",
            "\u001b[K     |████████████████████████████████| 71kB 11.3MB/s \n",
            "\u001b[?25hCollecting botocore<1.20.0,>=1.19.42\n",
            "\u001b[?25l  Downloading https://files.pythonhosted.org/packages/e8/f2/a14bb92df7fa19db3a43ff059dd290856da74351002157d60f184f98cb0d/botocore-1.19.42-py2.py3-none-any.whl (7.2MB)\n",
            "\u001b[K     |████████████████████████████████| 7.2MB 44.4MB/s \n",
            "\u001b[?25hCollecting jmespath<1.0.0,>=0.7.1\n",
            "  Downloading https://files.pythonhosted.org/packages/07/cb/5f001272b6faeb23c1c9e0acc04d48eaaf5c862c17709d20e3469c6e0139/jmespath-0.10.0-py2.py3-none-any.whl\n",
            "Requirement already satisfied: urllib3!=1.25.0,!=1.25.1,<1.26,>=1.21.1 in /usr/local/lib/python3.6/dist-packages (from requests>=2.20.0->mxnet-cu100==1.4.1->atspy) (1.24.3)\n",
            "Requirement already satisfied: chardet<4,>=3.0.2 in /usr/local/lib/python3.6/dist-packages (from requests>=2.20.0->mxnet-cu100==1.4.1->atspy) (3.0.4)\n",
            "Requirement already satisfied: certifi>=2017.4.17 in /usr/local/lib/python3.6/dist-packages (from requests>=2.20.0->mxnet-cu100==1.4.1->atspy) (2020.12.5)\n",
            "Requirement already satisfied: idna<3,>=2.5 in /usr/local/lib/python3.6/dist-packages (from requests>=2.20.0->mxnet-cu100==1.4.1->atspy) (2.10)\n",
            "Requirement already satisfied: werkzeug>=0.11.15 in /usr/local/lib/python3.6/dist-packages (from tensorboard<1.16.0,>=1.15.0->tensorflow==1.15.0->atspy) (1.0.1)\n",
            "Requirement already satisfied: markdown>=2.6.8 in /usr/local/lib/python3.6/dist-packages (from tensorboard<1.16.0,>=1.15.0->tensorflow==1.15.0->atspy) (3.3.3)\n",
            "Collecting fsspec>=0.6.0; extra == \"dataframe\"\n",
            "\u001b[?25l  Downloading https://files.pythonhosted.org/packages/ec/80/72ac0982cc833945fada4b76c52f0f65435ba4d53bc9317d1c70b5f7e7d5/fsspec-0.8.5-py3-none-any.whl (98kB)\n",
            "\u001b[K     |████████████████████████████████| 102kB 13.7MB/s \n",
            "\u001b[?25hCollecting partd>=0.3.10; extra == \"dataframe\"\n",
            "  Downloading https://files.pythonhosted.org/packages/44/e1/68dbe731c9c067655bff1eca5b7d40c20ca4b23fd5ec9f3d17e201a6f36b/partd-1.1.0-py3-none-any.whl\n",
            "Requirement already satisfied: toolz>=0.7.3; extra == \"dataframe\" in /usr/local/lib/python3.6/dist-packages (from dask[dataframe]>=0.15.2->tsfresh==0.14.1->atspy) (0.11.1)\n",
            "Requirement already satisfied: sortedcontainers!=2.0.0,!=2.0.1 in /usr/local/lib/python3.6/dist-packages (from distributed>=1.18.3->tsfresh==0.14.1->atspy) (2.3.0)\n",
            "Requirement already satisfied: cloudpickle>=0.2.2 in /usr/local/lib/python3.6/dist-packages (from distributed>=1.18.3->tsfresh==0.14.1->atspy) (1.3.0)\n",
            "Requirement already satisfied: msgpack in /usr/local/lib/python3.6/dist-packages (from distributed>=1.18.3->tsfresh==0.14.1->atspy) (1.0.1)\n",
            "Requirement already satisfied: tornado>=4.5.1 in /usr/local/lib/python3.6/dist-packages (from distributed>=1.18.3->tsfresh==0.14.1->atspy) (5.1.1)\n",
            "Requirement already satisfied: zict>=0.1.3 in /usr/local/lib/python3.6/dist-packages (from distributed>=1.18.3->tsfresh==0.14.1->atspy) (2.0.0)\n",
            "Requirement already satisfied: oauthlib>=3.0.0 in /usr/local/lib/python3.6/dist-packages (from requests-oauthlib>=0.7.0->tweepy==3.6.0->atspy) (3.1.0)\n",
            "Requirement already satisfied: importlib-metadata; python_version < \"3.8\" in /usr/local/lib/python3.6/dist-packages (from markdown>=2.6.8->tensorboard<1.16.0,>=1.15.0->tensorflow==1.15.0->atspy) (3.3.0)\n",
            "Collecting locket\n",
            "  Downloading https://files.pythonhosted.org/packages/d0/22/3c0f97614e0be8386542facb3a7dcfc2584f7b83608c02333bced641281c/locket-0.2.0.tar.gz\n",
            "Requirement already satisfied: heapdict in /usr/local/lib/python3.6/dist-packages (from zict>=0.1.3->distributed>=1.18.3->tsfresh==0.14.1->atspy) (1.0.1)\n",
            "Requirement already satisfied: zipp>=0.5 in /usr/local/lib/python3.6/dist-packages (from importlib-metadata; python_version < \"3.8\"->markdown>=2.6.8->tensorboard<1.16.0,>=1.15.0->tensorflow==1.15.0->atspy) (3.4.0)\n",
            "Building wheels for collected packages: atspy, fbprophet, tflearn, ujson, gast, locket\n",
            "  Building wheel for atspy (setup.py) ... \u001b[?25l\u001b[?25hdone\n",
            "  Created wheel for atspy: filename=atspy-0.2.8-cp36-none-any.whl size=16423 sha256=9d884fd6ed785dec53bde772b0e90aae81ba7f59e51c7963f14329e57fee968e\n",
            "  Stored in directory: /root/.cache/pip/wheels/ac/2e/4b/114d30f1e5e8763c05a3a6964efc758b07ab2dc26530bec443\n",
            "  Building wheel for fbprophet (setup.py) ... \u001b[?25l\u001b[?25hdone\n",
            "  Created wheel for fbprophet: filename=fbprophet-0.5-cp36-none-any.whl size=6612174 sha256=1c237fccdf0e5fbd36eb68608672eacfa7d8328a8c2a406ce44bda744f743acc\n",
            "  Stored in directory: /root/.cache/pip/wheels/16/61/45/2dce71b1055b65f28a8b75702664adee6c645e3e294178a202\n",
            "  Building wheel for tflearn (setup.py) ... \u001b[?25l\u001b[?25hdone\n",
            "  Created wheel for tflearn: filename=tflearn-0.3.2-cp36-none-any.whl size=128208 sha256=597bf54b6d86a709b5e41dcfa2fb7dfb6b24db163fac707f43ab564712afefcd\n",
            "  Stored in directory: /root/.cache/pip/wheels/d0/f6/69/0ef3ee395aac2e5d15d89efd29a9a216f3c27767b43b72c006\n",
            "  Building wheel for ujson (setup.py) ... \u001b[?25l\u001b[?25hdone\n",
            "  Created wheel for ujson: filename=ujson-1.35-cp36-cp36m-linux_x86_64.whl size=68010 sha256=2fcc5f26d4735314643b17b2bc0a17b2dcd7bfb32b8073732c6de42117c60b80\n",
            "  Stored in directory: /root/.cache/pip/wheels/28/77/e4/0311145b9c2e2f01470e744855131f9e34d6919687550f87d1\n",
            "  Building wheel for gast (setup.py) ... \u001b[?25l\u001b[?25hdone\n",
            "  Created wheel for gast: filename=gast-0.2.2-cp36-none-any.whl size=7540 sha256=3c6921dee6d3e3a8b78882b5e2d8fca73568d8fb350b9c4d2b309f814ddd834a\n",
            "  Stored in directory: /root/.cache/pip/wheels/5c/2e/7e/a1d4d4fcebe6c381f378ce7743a3ced3699feb89bcfbdadadd\n",
            "  Building wheel for locket (setup.py) ... \u001b[?25l\u001b[?25hdone\n",
            "  Created wheel for locket: filename=locket-0.2.0-cp36-none-any.whl size=4042 sha256=235a1001933dd7444b3dceae4df517314b7c96ea9583a6088b978bc93c736dee\n",
            "  Stored in directory: /root/.cache/pip/wheels/26/1e/e8/4fa236ec931b1a0cdd61578e20d4934d7bf188858723b84698\n",
            "Successfully built atspy fbprophet tflearn ujson gast locket\n",
            "\u001b[31mERROR: umap-learn 0.4.6 has requirement numba!=0.47,>=0.46, but you'll have numba 0.47.0 which is incompatible.\u001b[0m\n",
            "\u001b[31mERROR: torchvision 0.8.1+cu101 has requirement torch==1.7.0, but you'll have torch 1.4.0 which is incompatible.\u001b[0m\n",
            "\u001b[31mERROR: tensorflow-probability 0.11.0 has requirement gast>=0.3.2, but you'll have gast 0.2.2 which is incompatible.\u001b[0m\n",
            "\u001b[31mERROR: spacy 2.2.4 has requirement tqdm<5.0.0,>=4.38.0, but you'll have tqdm 4.28.1 which is incompatible.\u001b[0m\n",
            "\u001b[31mERROR: nbclient 0.5.1 has requirement jupyter-client>=6.1.5, but you'll have jupyter-client 5.3.5 which is incompatible.\u001b[0m\n",
            "\u001b[31mERROR: google-colab 1.0.0 has requirement pandas~=1.1.0; python_version >= \"3.0\", but you'll have pandas 0.25.3 which is incompatible.\u001b[0m\n",
            "\u001b[31mERROR: datascience 0.10.6 has requirement folium==0.2.1, but you'll have folium 0.8.3 which is incompatible.\u001b[0m\n",
            "\u001b[31mERROR: bokeh 2.1.1 has requirement typing-extensions>=3.7.4, but you'll have typing-extensions 3.6.6 which is incompatible.\u001b[0m\n",
            "\u001b[31mERROR: albumentations 0.1.12 has requirement imgaug<0.2.7,>=0.2.5, but you'll have imgaug 0.2.9 which is incompatible.\u001b[0m\n",
            "\u001b[31mERROR: botocore 1.19.42 has requirement urllib3<1.27,>=1.25.4; python_version != \"3.4\", but you'll have urllib3 1.24.3 which is incompatible.\u001b[0m\n",
            "\u001b[31mERROR: gluonts 0.4.2 has requirement holidays<0.10,>=0.9, but you'll have holidays 0.10.4 which is incompatible.\u001b[0m\n",
            "\u001b[31mERROR: mxnet-cu100 1.4.1 has requirement numpy<1.15.0,>=1.8.2, but you'll have numpy 1.17.4 which is incompatible.\u001b[0m\n",
            "\u001b[31mERROR: nbeats-pytorch 1.3.0 has requirement numpy==1.16.2, but you'll have numpy 1.17.4 which is incompatible.\u001b[0m\n",
            "Installing collected packages: cachetools, Cython, zope.interface, DateTime, decorator, numpy, python-dateutil, pandas, matplotlib, lunardate, fbprophet, pydantic, ujson, jmespath, botocore, s3transfer, boto3, tqdm, gluonts, gunicorn, keras-applications, Keras, graphviz, mxnet-cu100, numba, pip-tools, scikit-learn, pmdarima, seaborn, tbats, tblib, tensorboard, gast, tensorflow-estimator, tensorflow, tflearn, torch, tsfresh, typing, typing-extensions, seasonal, nbeats-pytorch, atspy, fsspec, locket, partd\n",
            "  Found existing installation: cachetools 4.2.0\n",
            "    Uninstalling cachetools-4.2.0:\n",
            "      Successfully uninstalled cachetools-4.2.0\n",
            "  Found existing installation: Cython 0.29.21\n",
            "    Uninstalling Cython-0.29.21:\n",
            "      Successfully uninstalled Cython-0.29.21\n",
            "  Found existing installation: decorator 4.4.2\n",
            "    Uninstalling decorator-4.4.2:\n",
            "      Successfully uninstalled decorator-4.4.2\n",
            "  Found existing installation: numpy 1.19.4\n",
            "    Uninstalling numpy-1.19.4:\n",
            "      Successfully uninstalled numpy-1.19.4\n",
            "  Found existing installation: python-dateutil 2.8.1\n",
            "    Uninstalling python-dateutil-2.8.1:\n",
            "      Successfully uninstalled python-dateutil-2.8.1\n",
            "  Found existing installation: pandas 1.1.5\n",
            "    Uninstalling pandas-1.1.5:\n",
            "      Successfully uninstalled pandas-1.1.5\n",
            "  Found existing installation: matplotlib 3.2.2\n",
            "    Uninstalling matplotlib-3.2.2:\n",
            "      Successfully uninstalled matplotlib-3.2.2\n",
            "  Found existing installation: fbprophet 0.7.1\n",
            "    Uninstalling fbprophet-0.7.1:\n",
            "      Successfully uninstalled fbprophet-0.7.1\n",
            "  Found existing installation: tqdm 4.41.1\n",
            "    Uninstalling tqdm-4.41.1:\n",
            "      Successfully uninstalled tqdm-4.41.1\n",
            "  Found existing installation: Keras 2.4.3\n",
            "    Uninstalling Keras-2.4.3:\n",
            "      Successfully uninstalled Keras-2.4.3\n",
            "  Found existing installation: graphviz 0.10.1\n",
            "    Uninstalling graphviz-0.10.1:\n",
            "      Successfully uninstalled graphviz-0.10.1\n",
            "  Found existing installation: numba 0.48.0\n",
            "    Uninstalling numba-0.48.0:\n",
            "      Successfully uninstalled numba-0.48.0\n",
            "  Found existing installation: pip-tools 4.5.1\n",
            "    Uninstalling pip-tools-4.5.1:\n",
            "      Successfully uninstalled pip-tools-4.5.1\n",
            "  Found existing installation: scikit-learn 0.22.2.post1\n",
            "    Uninstalling scikit-learn-0.22.2.post1:\n",
            "      Successfully uninstalled scikit-learn-0.22.2.post1\n",
            "  Found existing installation: seaborn 0.11.0\n",
            "    Uninstalling seaborn-0.11.0:\n",
            "      Successfully uninstalled seaborn-0.11.0\n",
            "  Found existing installation: tblib 1.7.0\n",
            "    Uninstalling tblib-1.7.0:\n",
            "      Successfully uninstalled tblib-1.7.0\n",
            "  Found existing installation: tensorboard 2.4.0\n",
            "    Uninstalling tensorboard-2.4.0:\n",
            "      Successfully uninstalled tensorboard-2.4.0\n",
            "  Found existing installation: gast 0.3.3\n",
            "    Uninstalling gast-0.3.3:\n",
            "      Successfully uninstalled gast-0.3.3\n",
            "  Found existing installation: tensorflow-estimator 2.4.0\n",
            "    Uninstalling tensorflow-estimator-2.4.0:\n",
            "      Successfully uninstalled tensorflow-estimator-2.4.0\n",
            "  Found existing installation: tensorflow 2.4.0\n",
            "    Uninstalling tensorflow-2.4.0:\n",
            "      Successfully uninstalled tensorflow-2.4.0\n",
            "  Found existing installation: torch 1.7.0+cu101\n",
            "    Uninstalling torch-1.7.0+cu101:\n",
            "      Successfully uninstalled torch-1.7.0+cu101\n",
            "  Found existing installation: typing-extensions 3.7.4.3\n",
            "    Uninstalling typing-extensions-3.7.4.3:\n",
            "      Successfully uninstalled typing-extensions-3.7.4.3\n",
            "Successfully installed Cython-0.29.14 DateTime-4.3 Keras-2.2.5 atspy-0.2.8 boto3-1.16.42 botocore-1.19.42 cachetools-4.0.0 decorator-4.4.1 fbprophet-0.5 fsspec-0.8.5 gast-0.2.2 gluonts-0.4.2 graphviz-0.8.4 gunicorn-20.0.4 jmespath-0.10.0 keras-applications-1.0.8 locket-0.2.0 lunardate-0.2.0 matplotlib-3.1.2 mxnet-cu100-1.4.1 nbeats-pytorch-1.3.0 numba-0.47.0 numpy-1.17.4 pandas-0.25.3 partd-1.1.0 pip-tools-4.2.0 pmdarima-1.5.2 pydantic-1.4 python-dateutil-2.8.0 s3transfer-0.3.3 scikit-learn-0.22.1 seaborn-0.9.1 seasonal-0.3.1 tbats-1.0.9 tblib-1.6.0 tensorboard-1.15.0 tensorflow-1.15.0 tensorflow-estimator-1.15.1 tflearn-0.3.2 torch-1.4.0 tqdm-4.28.1 tsfresh-0.14.1 typing-3.6.6 typing-extensions-3.6.6 ujson-1.35 zope.interface-5.2.0\n"
          ],
          "name": "stdout"
        },
        {
          "output_type": "display_data",
          "data": {
            "application/vnd.colab-display-data+json": {
              "pip_warning": {
                "packages": [
                  "dateutil",
                  "decorator",
                  "matplotlib",
                  "mpl_toolkits",
                  "numpy",
                  "pandas",
                  "typing"
                ]
              }
            }
          },
          "metadata": {
            "tags": []
          }
        }
      ]
    },
    {
      "cell_type": "code",
      "metadata": {
        "colab": {
          "base_uri": "https://localhost:8080/"
        },
        "id": "S08j2xvSNkys",
        "outputId": "ff9cb38a-0d80-4f4b-f5eb-8ccd3d60bd2f"
      },
      "source": [
        "!pip install pigar"
      ],
      "execution_count": 1,
      "outputs": [
        {
          "output_type": "stream",
          "text": [
            "Requirement already satisfied: pigar in /usr/local/lib/python3.6/dist-packages (0.10.0)\n",
            "Requirement already satisfied: colorama>=0.3.9 in /usr/local/lib/python3.6/dist-packages (from pigar) (0.4.4)\n",
            "Requirement already satisfied: nbformat>=4.4.0 in /usr/local/lib/python3.6/dist-packages (from pigar) (5.0.8)\n",
            "Requirement already satisfied: requests>=2.20.0 in /usr/local/lib/python3.6/dist-packages (from pigar) (2.23.0)\n",
            "Requirement already satisfied: traitlets>=4.1 in /usr/local/lib/python3.6/dist-packages (from nbformat>=4.4.0->pigar) (4.3.3)\n",
            "Requirement already satisfied: jupyter-core in /usr/local/lib/python3.6/dist-packages (from nbformat>=4.4.0->pigar) (4.7.0)\n",
            "Requirement already satisfied: jsonschema!=2.5.0,>=2.4 in /usr/local/lib/python3.6/dist-packages (from nbformat>=4.4.0->pigar) (2.6.0)\n",
            "Requirement already satisfied: ipython-genutils in /usr/local/lib/python3.6/dist-packages (from nbformat>=4.4.0->pigar) (0.2.0)\n",
            "Requirement already satisfied: chardet<4,>=3.0.2 in /usr/local/lib/python3.6/dist-packages (from requests>=2.20.0->pigar) (3.0.4)\n",
            "Requirement already satisfied: certifi>=2017.4.17 in /usr/local/lib/python3.6/dist-packages (from requests>=2.20.0->pigar) (2020.12.5)\n",
            "Requirement already satisfied: idna<3,>=2.5 in /usr/local/lib/python3.6/dist-packages (from requests>=2.20.0->pigar) (2.10)\n",
            "Requirement already satisfied: urllib3!=1.25.0,!=1.25.1,<1.26,>=1.21.1 in /usr/local/lib/python3.6/dist-packages (from requests>=2.20.0->pigar) (1.24.3)\n",
            "Requirement already satisfied: six in /usr/local/lib/python3.6/dist-packages (from traitlets>=4.1->nbformat>=4.4.0->pigar) (1.15.0)\n",
            "Requirement already satisfied: decorator in /usr/local/lib/python3.6/dist-packages (from traitlets>=4.1->nbformat>=4.4.0->pigar) (4.4.1)\n"
          ],
          "name": "stdout"
        }
      ]
    },
    {
      "cell_type": "markdown",
      "metadata": {
        "id": "onAO1T_LNrcS"
      },
      "source": [
        "Restart Runtime\r\n",
        "\r\n",
        "Runtime -> Restart Runtime -> Yes"
      ]
    },
    {
      "cell_type": "code",
      "metadata": {
        "colab": {
          "base_uri": "https://localhost:8080/"
        },
        "id": "CZymkaXYOBtZ",
        "outputId": "aae4e0d7-130a-417e-81e2-787961d9b9ab"
      },
      "source": [
        "pip install holidays==0.9.12"
      ],
      "execution_count": 4,
      "outputs": [
        {
          "output_type": "stream",
          "text": [
            "Collecting holidays==0.9.12\n",
            "\u001b[?25l  Downloading https://files.pythonhosted.org/packages/51/2c/5289263b6bb3a1ac51ddfd1f631947e2636ad9ebe8ac5e88ec37bceffc11/holidays-0.9.12.tar.gz (85kB)\n",
            "\r\u001b[K     |███▉                            | 10kB 21.7MB/s eta 0:00:01\r\u001b[K     |███████▋                        | 20kB 29.0MB/s eta 0:00:01\r\u001b[K     |███████████▌                    | 30kB 21.4MB/s eta 0:00:01\r\u001b[K     |███████████████▎                | 40kB 17.0MB/s eta 0:00:01\r\u001b[K     |███████████████████▏            | 51kB 15.8MB/s eta 0:00:01\r\u001b[K     |███████████████████████         | 61kB 18.1MB/s eta 0:00:01\r\u001b[K     |██████████████████████████▊     | 71kB 13.9MB/s eta 0:00:01\r\u001b[K     |██████████████████████████████▋ | 81kB 14.6MB/s eta 0:00:01\r\u001b[K     |████████████████████████████████| 92kB 8.1MB/s \n",
            "\u001b[?25hRequirement already satisfied: python-dateutil in /usr/local/lib/python3.6/dist-packages (from holidays==0.9.12) (2.8.0)\n",
            "Requirement already satisfied: six in /usr/local/lib/python3.6/dist-packages (from holidays==0.9.12) (1.15.0)\n",
            "Building wheels for collected packages: holidays\n",
            "  Building wheel for holidays (setup.py) ... \u001b[?25l\u001b[?25hdone\n",
            "  Created wheel for holidays: filename=holidays-0.9.12-cp36-none-any.whl size=47610 sha256=98dcb67b363d3cdae55f0dfb4ab16101a19ac6c87a753c1e58cd252ea7a6cffa\n",
            "  Stored in directory: /root/.cache/pip/wheels/1f/fd/3a/f29866dc23dada18f25e9837477c82bbd7952aeef86fa46f11\n",
            "Successfully built holidays\n",
            "Installing collected packages: holidays\n",
            "  Found existing installation: holidays 0.10.4\n",
            "    Uninstalling holidays-0.10.4:\n",
            "      Successfully uninstalled holidays-0.10.4\n",
            "Successfully installed holidays-0.9.12\n"
          ],
          "name": "stdout"
        }
      ]
    },
    {
      "cell_type": "markdown",
      "metadata": {
        "id": "YlqOPVVCcSUu"
      },
      "source": [
        "# Load Data"
      ]
    },
    {
      "cell_type": "code",
      "metadata": {
        "colab": {
          "base_uri": "https://localhost:8080/",
          "height": 235
        },
        "id": "7qXxqPXwNqoJ",
        "outputId": "be4aaf6e-5559-4166-a3a6-2b9f802c69d6"
      },
      "source": [
        "import pandas as pd\r\n",
        "df = pd.read_csv(\"https://raw.githubusercontent.com/dpetrovic89/Forecast-Salaries-for-end-of-2020-and-2021-in-Serbia/main/zarade-od-1994%20forecast%20dataset.csv\")\r\n",
        "df.Date = pd.to_datetime(df.Date)\r\n",
        "df = df.set_index(\"Date\")\r\n",
        "df.head()"
      ],
      "execution_count": 2,
      "outputs": [
        {
          "output_type": "execute_result",
          "data": {
            "text/html": [
              "<div>\n",
              "<style scoped>\n",
              "    .dataframe tbody tr th:only-of-type {\n",
              "        vertical-align: middle;\n",
              "    }\n",
              "\n",
              "    .dataframe tbody tr th {\n",
              "        vertical-align: top;\n",
              "    }\n",
              "\n",
              "    .dataframe thead th {\n",
              "        text-align: right;\n",
              "    }\n",
              "</style>\n",
              "<table border=\"1\" class=\"dataframe\">\n",
              "  <thead>\n",
              "    <tr style=\"text-align: right;\">\n",
              "      <th></th>\n",
              "      <th>Neto</th>\n",
              "      <th>Bruto</th>\n",
              "    </tr>\n",
              "    <tr>\n",
              "      <th>Date</th>\n",
              "      <th></th>\n",
              "      <th></th>\n",
              "    </tr>\n",
              "  </thead>\n",
              "  <tbody>\n",
              "    <tr>\n",
              "      <th>1994-01-31</th>\n",
              "      <td>25</td>\n",
              "      <td>45</td>\n",
              "    </tr>\n",
              "    <tr>\n",
              "      <th>1994-02-28</th>\n",
              "      <td>64</td>\n",
              "      <td>122</td>\n",
              "    </tr>\n",
              "    <tr>\n",
              "      <th>1994-03-31</th>\n",
              "      <td>82</td>\n",
              "      <td>151</td>\n",
              "    </tr>\n",
              "    <tr>\n",
              "      <th>1994-04-30</th>\n",
              "      <td>116</td>\n",
              "      <td>213</td>\n",
              "    </tr>\n",
              "    <tr>\n",
              "      <th>1994-05-31</th>\n",
              "      <td>136</td>\n",
              "      <td>233</td>\n",
              "    </tr>\n",
              "  </tbody>\n",
              "</table>\n",
              "</div>"
            ],
            "text/plain": [
              "            Neto  Bruto\n",
              "Date                   \n",
              "1994-01-31    25     45\n",
              "1994-02-28    64    122\n",
              "1994-03-31    82    151\n",
              "1994-04-30   116    213\n",
              "1994-05-31   136    233"
            ]
          },
          "metadata": {
            "tags": []
          },
          "execution_count": 2
        }
      ]
    },
    {
      "cell_type": "code",
      "metadata": {
        "colab": {
          "base_uri": "https://localhost:8080/",
          "height": 235
        },
        "id": "yRPLY30aN-fy",
        "outputId": "e666332c-854b-4b1e-9d5d-008aae1b5887"
      },
      "source": [
        "df = df.drop(['Bruto'], axis = 1) \r\n",
        "df.head()"
      ],
      "execution_count": 3,
      "outputs": [
        {
          "output_type": "execute_result",
          "data": {
            "text/html": [
              "<div>\n",
              "<style scoped>\n",
              "    .dataframe tbody tr th:only-of-type {\n",
              "        vertical-align: middle;\n",
              "    }\n",
              "\n",
              "    .dataframe tbody tr th {\n",
              "        vertical-align: top;\n",
              "    }\n",
              "\n",
              "    .dataframe thead th {\n",
              "        text-align: right;\n",
              "    }\n",
              "</style>\n",
              "<table border=\"1\" class=\"dataframe\">\n",
              "  <thead>\n",
              "    <tr style=\"text-align: right;\">\n",
              "      <th></th>\n",
              "      <th>Neto</th>\n",
              "    </tr>\n",
              "    <tr>\n",
              "      <th>Date</th>\n",
              "      <th></th>\n",
              "    </tr>\n",
              "  </thead>\n",
              "  <tbody>\n",
              "    <tr>\n",
              "      <th>1994-01-31</th>\n",
              "      <td>25</td>\n",
              "    </tr>\n",
              "    <tr>\n",
              "      <th>1994-02-28</th>\n",
              "      <td>64</td>\n",
              "    </tr>\n",
              "    <tr>\n",
              "      <th>1994-03-31</th>\n",
              "      <td>82</td>\n",
              "    </tr>\n",
              "    <tr>\n",
              "      <th>1994-04-30</th>\n",
              "      <td>116</td>\n",
              "    </tr>\n",
              "    <tr>\n",
              "      <th>1994-05-31</th>\n",
              "      <td>136</td>\n",
              "    </tr>\n",
              "  </tbody>\n",
              "</table>\n",
              "</div>"
            ],
            "text/plain": [
              "            Neto\n",
              "Date            \n",
              "1994-01-31    25\n",
              "1994-02-28    64\n",
              "1994-03-31    82\n",
              "1994-04-30   116\n",
              "1994-05-31   136"
            ]
          },
          "metadata": {
            "tags": []
          },
          "execution_count": 3
        }
      ]
    },
    {
      "cell_type": "markdown",
      "metadata": {
        "id": "Wg8JnM7BcZzM"
      },
      "source": [
        "# Forecast"
      ]
    },
    {
      "cell_type": "code",
      "metadata": {
        "colab": {
          "base_uri": "https://localhost:8080/"
        },
        "id": "XOGuX5VKOFVP",
        "outputId": "15d532bc-c78b-4c81-ed8a-099499c6c2c6"
      },
      "source": [
        "from atspy import AutomatedModel"
      ],
      "execution_count": 4,
      "outputs": [
        {
          "output_type": "stream",
          "text": [
            "INFO:root:Using GPU\n"
          ],
          "name": "stderr"
        }
      ]
    },
    {
      "cell_type": "code",
      "metadata": {
        "colab": {
          "base_uri": "https://localhost:8080/"
        },
        "id": "SBxniqKBOMvf",
        "outputId": "8d454a4c-35a9-498c-b5b1-e4635270bcfa"
      },
      "source": [
        "# list of algorithms\r\n",
        "model_list=[\"Gluonts\",\"Prophet\",\"NBEATS\", \"TBAT\", \"TATS\", \"TBATS1\", \"TBATP1\", \"TBATS2\"]\r\n",
        "\r\n",
        "am = AutomatedModel(df = df , model_list=model_list, season=\"infer_from_data\",forecast_len=15 )\r\n",
        "\r\n",
        "# we will call the forecaste_insample function which returns the forecast on the insample data and the performance.\r\n",
        "forecast_in, performance = am.forecast_insample()\r\n",
        "\r\n",
        "# now we will use outsample prediction which returns the out-of-sample forecasted dataframe.\r\n",
        "\r\n",
        "forecast_out = am.forecast_outsample()"
      ],
      "execution_count": 5,
      "outputs": [
        {
          "output_type": "stream",
          "text": [
            "INFO:root:Start model training\n"
          ],
          "name": "stderr"
        },
        {
          "output_type": "stream",
          "text": [
            "<class 'pandas.core.frame.DataFrame'>\n",
            "The data has been successfully parsed by infering a frequency, and establishing a 'Date' index and 'Target' column.\n",
            "240\n",
            "An insample split of training size 240 and testing size 81 has been constructed\n",
            "Model Gluonts is being trained for in sample prediction\n"
          ],
          "name": "stdout"
        },
        {
          "output_type": "stream",
          "text": [
            "INFO:root:Epoch[0] Learning rate is 0.001\n",
            "  0%|          | 0/50 [00:00<?, ?it/s]INFO:numexpr.utils:NumExpr defaulting to 2 threads.\n",
            "INFO:root:Number of parameters in DeepARTrainingNetwork: 23324\n",
            "100%|██████████| 50/50 [00:07<00:00,  6.50it/s, avg_epoch_loss=9.45]\n",
            "INFO:root:Epoch[0] Elapsed time 7.701 seconds\n",
            "INFO:root:Epoch[0] Evaluation metric 'epoch_loss'=9.453691\n",
            "INFO:root:Epoch[1] Learning rate is 0.001\n",
            "100%|██████████| 50/50 [00:07<00:00,  7.10it/s, avg_epoch_loss=7.96]\n",
            "INFO:root:Epoch[1] Elapsed time 7.049 seconds\n",
            "INFO:root:Epoch[1] Evaluation metric 'epoch_loss'=7.961318\n",
            "INFO:root:Epoch[2] Learning rate is 0.001\n",
            "100%|██████████| 50/50 [00:06<00:00,  7.16it/s, avg_epoch_loss=7.63]\n",
            "INFO:root:Epoch[2] Elapsed time 6.985 seconds\n",
            "INFO:root:Epoch[2] Evaluation metric 'epoch_loss'=7.625274\n",
            "INFO:root:Epoch[3] Learning rate is 0.001\n",
            "100%|██████████| 50/50 [00:06<00:00,  7.15it/s, avg_epoch_loss=7.44]\n",
            "INFO:root:Epoch[3] Elapsed time 6.992 seconds\n",
            "INFO:root:Epoch[3] Evaluation metric 'epoch_loss'=7.442547\n",
            "INFO:root:Epoch[4] Learning rate is 0.001\n",
            "100%|██████████| 50/50 [00:06<00:00,  7.18it/s, avg_epoch_loss=7.32]\n",
            "INFO:root:Epoch[4] Elapsed time 6.969 seconds\n",
            "INFO:root:Epoch[4] Evaluation metric 'epoch_loss'=7.323375\n",
            "INFO:root:Epoch[5] Learning rate is 0.001\n",
            "100%|██████████| 50/50 [00:06<00:00,  7.15it/s, avg_epoch_loss=7.21]\n",
            "INFO:root:Epoch[5] Elapsed time 6.996 seconds\n",
            "INFO:root:Epoch[5] Evaluation metric 'epoch_loss'=7.210780\n",
            "INFO:root:Loading parameters from best epoch (5)\n",
            "INFO:root:Final loss: 7.210779609680176 (occurred at epoch 5)\n",
            "INFO:root:End model training\n",
            "INFO:fbprophet:Disabling weekly seasonality. Run prophet with weekly_seasonality=True to override this.\n",
            "INFO:fbprophet:Disabling daily seasonality. Run prophet with daily_seasonality=True to override this.\n"
          ],
          "name": "stderr"
        },
        {
          "output_type": "stream",
          "text": [
            "Model Prophet is being trained for in sample prediction\n",
            "Model NBEATS is being trained for in sample prediction\n",
            "| N-Beats\n",
            "| --  Stack Generic (#0) (share_weights_in_stack=False)\n",
            "     | -- GenericBlock(units=128, thetas_dim=7, backcast_length=81, forecast_length=81, share_thetas=False) at @140529183076984\n",
            "     | -- GenericBlock(units=128, thetas_dim=7, backcast_length=81, forecast_length=81, share_thetas=False) at @140529182638376\n",
            "     | -- GenericBlock(units=128, thetas_dim=7, backcast_length=81, forecast_length=81, share_thetas=False) at @140529182639440\n",
            "| --  Stack Generic (#1) (share_weights_in_stack=False)\n",
            "     | -- GenericBlock(units=128, thetas_dim=8, backcast_length=81, forecast_length=81, share_thetas=False) at @140529182638936\n",
            "     | -- GenericBlock(units=128, thetas_dim=8, backcast_length=81, forecast_length=81, share_thetas=False) at @140529182638152\n",
            "     | -- GenericBlock(units=128, thetas_dim=8, backcast_length=81, forecast_length=81, share_thetas=False) at @140529182640168\n",
            "Model TBAT is being trained for in sample prediction\n",
            "Model TATS is being trained for in sample prediction\n",
            "The following set of plausible SSA seasonalities have been identified: {68}\n",
            "Model TBATS1 is being trained for in sample prediction\n",
            "Model TBATP1 is being trained for in sample prediction\n",
            "Model TBATS2 is being trained for in sample prediction\n",
            "The following set of plausible SSA seasonalities have been identified: {2, 68}\n",
            "Model Gluonts is being used to forcast in sample\n",
            "Model Prophet is being used to forcast in sample\n"
          ],
          "name": "stdout"
        },
        {
          "output_type": "stream",
          "text": [
            "INFO:root:Start model training\n",
            "INFO:root:Epoch[0] Learning rate is 0.001\n",
            "  0%|          | 0/50 [00:00<?, ?it/s]"
          ],
          "name": "stderr"
        },
        {
          "output_type": "stream",
          "text": [
            "Model NBEATS is being used to forcast in sample\n",
            "Model TBAT is being used to forcast in sample\n",
            "Model TATS is being used to forcast in sample\n",
            "Model TBATS1 is being used to forcast in sample\n",
            "Model TBATP1 is being used to forcast in sample\n",
            "Model TBATS2 is being used to forcast in sample\n",
            "Successfully finished in sample forecast\n",
            "<class 'pandas.core.frame.DataFrame'>\n",
            "The data has been successfully parsed by infering a frequency, and establishing a 'Date' index and 'Target' column.\n",
            "Model Gluonts is being trained for out of sample prediction\n"
          ],
          "name": "stdout"
        },
        {
          "output_type": "stream",
          "text": [
            "INFO:root:Number of parameters in DeepARTrainingNetwork: 23324\n",
            "100%|██████████| 50/50 [00:01<00:00, 27.33it/s, avg_epoch_loss=9.66]\n",
            "INFO:root:Epoch[0] Elapsed time 1.833 seconds\n",
            "INFO:root:Epoch[0] Evaluation metric 'epoch_loss'=9.658380\n",
            "INFO:root:Epoch[1] Learning rate is 0.001\n",
            "100%|██████████| 50/50 [00:01<00:00, 28.65it/s, avg_epoch_loss=8.47]\n",
            "INFO:root:Epoch[1] Elapsed time 1.749 seconds\n",
            "INFO:root:Epoch[1] Evaluation metric 'epoch_loss'=8.468469\n",
            "INFO:root:Epoch[2] Learning rate is 0.001\n",
            "100%|██████████| 50/50 [00:01<00:00, 28.98it/s, avg_epoch_loss=8.12]\n",
            "INFO:root:Epoch[2] Elapsed time 1.729 seconds\n",
            "INFO:root:Epoch[2] Evaluation metric 'epoch_loss'=8.121142\n",
            "INFO:root:Epoch[3] Learning rate is 0.001\n",
            "100%|██████████| 50/50 [00:01<00:00, 29.12it/s, avg_epoch_loss=8.05]\n",
            "INFO:root:Epoch[3] Elapsed time 1.721 seconds\n",
            "INFO:root:Epoch[3] Evaluation metric 'epoch_loss'=8.054454\n",
            "INFO:root:Epoch[4] Learning rate is 0.001\n",
            "100%|██████████| 50/50 [00:01<00:00, 29.20it/s, avg_epoch_loss=7.94]\n",
            "INFO:root:Epoch[4] Elapsed time 1.719 seconds\n",
            "INFO:root:Epoch[4] Evaluation metric 'epoch_loss'=7.943999\n",
            "INFO:root:Epoch[5] Learning rate is 0.001\n",
            "100%|██████████| 50/50 [00:01<00:00, 28.74it/s, avg_epoch_loss=7.75]\n",
            "INFO:root:Epoch[5] Elapsed time 1.744 seconds\n",
            "INFO:root:Epoch[5] Evaluation metric 'epoch_loss'=7.745185\n",
            "INFO:root:Loading parameters from best epoch (5)\n",
            "INFO:root:Final loss: 7.745184574127197 (occurred at epoch 5)\n",
            "INFO:root:End model training\n",
            "INFO:fbprophet:Disabling weekly seasonality. Run prophet with weekly_seasonality=True to override this.\n",
            "INFO:fbprophet:Disabling daily seasonality. Run prophet with daily_seasonality=True to override this.\n"
          ],
          "name": "stderr"
        },
        {
          "output_type": "stream",
          "text": [
            "Model Prophet is being trained for out of sample prediction\n",
            "Model NBEATS is being trained for out of sample prediction\n",
            "| N-Beats\n",
            "| --  Stack Generic (#0) (share_weights_in_stack=False)\n",
            "     | -- GenericBlock(units=128, thetas_dim=7, backcast_length=15, forecast_length=15, share_thetas=False) at @140527652562424\n",
            "     | -- GenericBlock(units=128, thetas_dim=7, backcast_length=15, forecast_length=15, share_thetas=False) at @140527652602264\n",
            "     | -- GenericBlock(units=128, thetas_dim=7, backcast_length=15, forecast_length=15, share_thetas=False) at @140527652602544\n",
            "| --  Stack Generic (#1) (share_weights_in_stack=False)\n",
            "     | -- GenericBlock(units=128, thetas_dim=8, backcast_length=15, forecast_length=15, share_thetas=False) at @140527652604056\n",
            "     | -- GenericBlock(units=128, thetas_dim=8, backcast_length=15, forecast_length=15, share_thetas=False) at @140527652651248\n",
            "     | -- GenericBlock(units=128, thetas_dim=8, backcast_length=15, forecast_length=15, share_thetas=False) at @140527652654104\n",
            "Model TBAT is being trained for out of sample prediction\n",
            "Model TATS is being trained for out of sample prediction\n",
            "The following set of plausible SSA seasonalities have been identified: {68}\n",
            "Model TBATS1 is being trained for out of sample prediction\n",
            "Model TBATP1 is being trained for out of sample prediction\n",
            "Model TBATS2 is being trained for out of sample prediction\n",
            "The following set of plausible SSA seasonalities have been identified: {2, 68}\n",
            "Model Gluonts is being used to forcast out of sample\n",
            "Model Prophet is being used to forcast out of sample\n",
            "Model NBEATS is being used to forcast out of sample\n",
            "Model TBAT is being used to forcast out of sample\n",
            "Model TATS is being used to forcast out of sample\n",
            "Model TBATS1 is being used to forcast out of sample\n",
            "Model TBATP1 is being used to forcast out of sample\n",
            "Model TBATS2 is being used to forcast out of sample\n",
            "Successfully finished out of sample forecast\n"
          ],
          "name": "stdout"
        }
      ]
    },
    {
      "cell_type": "code",
      "metadata": {
        "colab": {
          "base_uri": "https://localhost:8080/",
          "height": 235
        },
        "id": "3lXR-vPoK6Y-",
        "outputId": "bb14f776-2e85-4a2c-dde2-e93414a638dc"
      },
      "source": [
        "forecast_in.head()"
      ],
      "execution_count": 6,
      "outputs": [
        {
          "output_type": "execute_result",
          "data": {
            "text/html": [
              "<div>\n",
              "<style scoped>\n",
              "    .dataframe tbody tr th:only-of-type {\n",
              "        vertical-align: middle;\n",
              "    }\n",
              "\n",
              "    .dataframe tbody tr th {\n",
              "        vertical-align: top;\n",
              "    }\n",
              "\n",
              "    .dataframe thead th {\n",
              "        text-align: right;\n",
              "    }\n",
              "</style>\n",
              "<table border=\"1\" class=\"dataframe\">\n",
              "  <thead>\n",
              "    <tr style=\"text-align: right;\">\n",
              "      <th></th>\n",
              "      <th>Target</th>\n",
              "      <th>Gluonts</th>\n",
              "      <th>Prophet</th>\n",
              "      <th>NBEATS</th>\n",
              "      <th>TBAT</th>\n",
              "      <th>TATS</th>\n",
              "      <th>TBATS1</th>\n",
              "      <th>TBATP1</th>\n",
              "      <th>TBATS2</th>\n",
              "    </tr>\n",
              "    <tr>\n",
              "      <th>Date</th>\n",
              "      <th></th>\n",
              "      <th></th>\n",
              "      <th></th>\n",
              "      <th></th>\n",
              "      <th></th>\n",
              "      <th></th>\n",
              "      <th></th>\n",
              "      <th></th>\n",
              "      <th></th>\n",
              "    </tr>\n",
              "  </thead>\n",
              "  <tbody>\n",
              "    <tr>\n",
              "      <th>2014-01-31</th>\n",
              "      <td>37966</td>\n",
              "      <td>61630.175781</td>\n",
              "      <td>44131.012144</td>\n",
              "      <td>41548.906250</td>\n",
              "      <td>46989.172371</td>\n",
              "      <td>46989.172371</td>\n",
              "      <td>46989.172371</td>\n",
              "      <td>43927.770261</td>\n",
              "      <td>46989.172371</td>\n",
              "    </tr>\n",
              "    <tr>\n",
              "      <th>2014-02-28</th>\n",
              "      <td>44057</td>\n",
              "      <td>61704.761719</td>\n",
              "      <td>45414.146586</td>\n",
              "      <td>45689.460938</td>\n",
              "      <td>47416.826218</td>\n",
              "      <td>47416.826218</td>\n",
              "      <td>47416.826218</td>\n",
              "      <td>44424.037377</td>\n",
              "      <td>47416.826218</td>\n",
              "    </tr>\n",
              "    <tr>\n",
              "      <th>2014-03-31</th>\n",
              "      <td>43452</td>\n",
              "      <td>64633.621094</td>\n",
              "      <td>45616.185439</td>\n",
              "      <td>45133.710938</td>\n",
              "      <td>47837.950149</td>\n",
              "      <td>47837.950149</td>\n",
              "      <td>47837.950149</td>\n",
              "      <td>45998.047474</td>\n",
              "      <td>47837.950149</td>\n",
              "    </tr>\n",
              "    <tr>\n",
              "      <th>2014-04-30</th>\n",
              "      <td>45847</td>\n",
              "      <td>57645.246094</td>\n",
              "      <td>46704.936465</td>\n",
              "      <td>45919.472656</td>\n",
              "      <td>48252.576073</td>\n",
              "      <td>48252.576073</td>\n",
              "      <td>48252.576073</td>\n",
              "      <td>46261.092871</td>\n",
              "      <td>48252.576073</td>\n",
              "    </tr>\n",
              "    <tr>\n",
              "      <th>2014-05-31</th>\n",
              "      <td>44184</td>\n",
              "      <td>57692.683594</td>\n",
              "      <td>46017.777903</td>\n",
              "      <td>45617.593750</td>\n",
              "      <td>48660.739248</td>\n",
              "      <td>48660.739248</td>\n",
              "      <td>48660.739248</td>\n",
              "      <td>46236.137955</td>\n",
              "      <td>48660.739248</td>\n",
              "    </tr>\n",
              "  </tbody>\n",
              "</table>\n",
              "</div>"
            ],
            "text/plain": [
              "            Target       Gluonts  ...        TBATP1        TBATS2\n",
              "Date                              ...                            \n",
              "2014-01-31   37966  61630.175781  ...  43927.770261  46989.172371\n",
              "2014-02-28   44057  61704.761719  ...  44424.037377  47416.826218\n",
              "2014-03-31   43452  64633.621094  ...  45998.047474  47837.950149\n",
              "2014-04-30   45847  57645.246094  ...  46261.092871  48252.576073\n",
              "2014-05-31   44184  57692.683594  ...  46236.137955  48660.739248\n",
              "\n",
              "[5 rows x 9 columns]"
            ]
          },
          "metadata": {
            "tags": []
          },
          "execution_count": 6
        }
      ]
    },
    {
      "cell_type": "code",
      "metadata": {
        "colab": {
          "base_uri": "https://localhost:8080/",
          "height": 514
        },
        "id": "ARTUbAi1TCjA",
        "outputId": "3c29c662-7400-4aaf-c118-e02992ead194"
      },
      "source": [
        "# forecast - prognoza\r\n",
        "forecast_out.head(15)"
      ],
      "execution_count": 43,
      "outputs": [
        {
          "output_type": "execute_result",
          "data": {
            "text/html": [
              "<div>\n",
              "<style scoped>\n",
              "    .dataframe tbody tr th:only-of-type {\n",
              "        vertical-align: middle;\n",
              "    }\n",
              "\n",
              "    .dataframe tbody tr th {\n",
              "        vertical-align: top;\n",
              "    }\n",
              "\n",
              "    .dataframe thead th {\n",
              "        text-align: right;\n",
              "    }\n",
              "</style>\n",
              "<table border=\"1\" class=\"dataframe\">\n",
              "  <thead>\n",
              "    <tr style=\"text-align: right;\">\n",
              "      <th></th>\n",
              "      <th>Gluonts</th>\n",
              "      <th>Prophet</th>\n",
              "      <th>NBEATS</th>\n",
              "      <th>TBAT</th>\n",
              "      <th>TATS</th>\n",
              "      <th>TBATS1</th>\n",
              "      <th>TBATP1</th>\n",
              "      <th>TBATS2</th>\n",
              "    </tr>\n",
              "  </thead>\n",
              "  <tbody>\n",
              "    <tr>\n",
              "      <th>2020-10-31</th>\n",
              "      <td>55694.56</td>\n",
              "      <td>56816.80</td>\n",
              "      <td>56122.45</td>\n",
              "      <td>60100.60</td>\n",
              "      <td>59947.64</td>\n",
              "      <td>60518.26</td>\n",
              "      <td>59316.51</td>\n",
              "      <td>59450.06</td>\n",
              "    </tr>\n",
              "    <tr>\n",
              "      <th>2020-11-30</th>\n",
              "      <td>58522.02</td>\n",
              "      <td>57137.26</td>\n",
              "      <td>57175.75</td>\n",
              "      <td>60284.87</td>\n",
              "      <td>59910.43</td>\n",
              "      <td>60663.43</td>\n",
              "      <td>61260.84</td>\n",
              "      <td>58776.95</td>\n",
              "    </tr>\n",
              "    <tr>\n",
              "      <th>2020-12-31</th>\n",
              "      <td>59927.96</td>\n",
              "      <td>60627.36</td>\n",
              "      <td>56072.70</td>\n",
              "      <td>60459.84</td>\n",
              "      <td>59851.13</td>\n",
              "      <td>60794.34</td>\n",
              "      <td>64881.48</td>\n",
              "      <td>58749.72</td>\n",
              "    </tr>\n",
              "    <tr>\n",
              "      <th>2021-01-31</th>\n",
              "      <td>58628.23</td>\n",
              "      <td>55456.79</td>\n",
              "      <td>55241.83</td>\n",
              "      <td>60625.97</td>\n",
              "      <td>59771.14</td>\n",
              "      <td>60908.37</td>\n",
              "      <td>58901.33</td>\n",
              "      <td>57963.58</td>\n",
              "    </tr>\n",
              "    <tr>\n",
              "      <th>2021-02-28</th>\n",
              "      <td>57641.00</td>\n",
              "      <td>57701.97</td>\n",
              "      <td>57501.00</td>\n",
              "      <td>60783.68</td>\n",
              "      <td>59672.04</td>\n",
              "      <td>61003.08</td>\n",
              "      <td>59473.55</td>\n",
              "      <td>57843.17</td>\n",
              "    </tr>\n",
              "    <tr>\n",
              "      <th>2021-03-31</th>\n",
              "      <td>57965.11</td>\n",
              "      <td>57984.08</td>\n",
              "      <td>56206.09</td>\n",
              "      <td>60933.36</td>\n",
              "      <td>59555.58</td>\n",
              "      <td>61076.19</td>\n",
              "      <td>61459.08</td>\n",
              "      <td>56994.48</td>\n",
              "    </tr>\n",
              "    <tr>\n",
              "      <th>2021-04-30</th>\n",
              "      <td>57677.82</td>\n",
              "      <td>59152.76</td>\n",
              "      <td>57016.62</td>\n",
              "      <td>61075.42</td>\n",
              "      <td>59423.66</td>\n",
              "      <td>61125.60</td>\n",
              "      <td>61609.44</td>\n",
              "      <td>56831.20</td>\n",
              "    </tr>\n",
              "    <tr>\n",
              "      <th>2021-05-31</th>\n",
              "      <td>57218.71</td>\n",
              "      <td>58085.32</td>\n",
              "      <td>58253.53</td>\n",
              "      <td>61210.22</td>\n",
              "      <td>59278.32</td>\n",
              "      <td>61149.43</td>\n",
              "      <td>61435.60</td>\n",
              "      <td>55971.22</td>\n",
              "    </tr>\n",
              "    <tr>\n",
              "      <th>2021-06-30</th>\n",
              "      <td>53861.86</td>\n",
              "      <td>58887.68</td>\n",
              "      <td>58323.27</td>\n",
              "      <td>61338.12</td>\n",
              "      <td>59121.69</td>\n",
              "      <td>61146.00</td>\n",
              "      <td>60956.64</td>\n",
              "      <td>55815.65</td>\n",
              "    </tr>\n",
              "    <tr>\n",
              "      <th>2021-07-31</th>\n",
              "      <td>59084.75</td>\n",
              "      <td>59040.80</td>\n",
              "      <td>58864.73</td>\n",
              "      <td>61459.45</td>\n",
              "      <td>58956.00</td>\n",
              "      <td>61113.90</td>\n",
              "      <td>62826.40</td>\n",
              "      <td>54994.26</td>\n",
              "    </tr>\n",
              "    <tr>\n",
              "      <th>2021-08-31</th>\n",
              "      <td>55985.54</td>\n",
              "      <td>58958.55</td>\n",
              "      <td>58462.24</td>\n",
              "      <td>61574.55</td>\n",
              "      <td>58783.57</td>\n",
              "      <td>61051.92</td>\n",
              "      <td>61072.72</td>\n",
              "      <td>54895.32</td>\n",
              "    </tr>\n",
              "    <tr>\n",
              "      <th>2021-09-30</th>\n",
              "      <td>55891.20</td>\n",
              "      <td>58944.89</td>\n",
              "      <td>59828.87</td>\n",
              "      <td>61683.71</td>\n",
              "      <td>58606.72</td>\n",
              "      <td>60959.16</td>\n",
              "      <td>62326.81</td>\n",
              "      <td>54159.37</td>\n",
              "    </tr>\n",
              "    <tr>\n",
              "      <th>2021-10-31</th>\n",
              "      <td>45687.75</td>\n",
              "      <td>59084.25</td>\n",
              "      <td>60201.29</td>\n",
              "      <td>61787.25</td>\n",
              "      <td>58427.84</td>\n",
              "      <td>60834.95</td>\n",
              "      <td>61186.06</td>\n",
              "      <td>54162.97</td>\n",
              "    </tr>\n",
              "    <tr>\n",
              "      <th>2021-11-30</th>\n",
              "      <td>48633.55</td>\n",
              "      <td>59366.51</td>\n",
              "      <td>59435.07</td>\n",
              "      <td>61885.43</td>\n",
              "      <td>58249.29</td>\n",
              "      <td>60678.89</td>\n",
              "      <td>63122.50</td>\n",
              "      <td>53555.24</td>\n",
              "    </tr>\n",
              "    <tr>\n",
              "      <th>2021-12-31</th>\n",
              "      <td>47735.95</td>\n",
              "      <td>62755.38</td>\n",
              "      <td>60469.59</td>\n",
              "      <td>61978.53</td>\n",
              "      <td>58073.43</td>\n",
              "      <td>60490.88</td>\n",
              "      <td>66765.71</td>\n",
              "      <td>53703.37</td>\n",
              "    </tr>\n",
              "  </tbody>\n",
              "</table>\n",
              "</div>"
            ],
            "text/plain": [
              "            Gluonts  Prophet   NBEATS  ...   TBATS1   TBATP1   TBATS2\n",
              "2020-10-31 55694.56 56816.80 56122.45  ... 60518.26 59316.51 59450.06\n",
              "2020-11-30 58522.02 57137.26 57175.75  ... 60663.43 61260.84 58776.95\n",
              "2020-12-31 59927.96 60627.36 56072.70  ... 60794.34 64881.48 58749.72\n",
              "2021-01-31 58628.23 55456.79 55241.83  ... 60908.37 58901.33 57963.58\n",
              "2021-02-28 57641.00 57701.97 57501.00  ... 61003.08 59473.55 57843.17\n",
              "2021-03-31 57965.11 57984.08 56206.09  ... 61076.19 61459.08 56994.48\n",
              "2021-04-30 57677.82 59152.76 57016.62  ... 61125.60 61609.44 56831.20\n",
              "2021-05-31 57218.71 58085.32 58253.53  ... 61149.43 61435.60 55971.22\n",
              "2021-06-30 53861.86 58887.68 58323.27  ... 61146.00 60956.64 55815.65\n",
              "2021-07-31 59084.75 59040.80 58864.73  ... 61113.90 62826.40 54994.26\n",
              "2021-08-31 55985.54 58958.55 58462.24  ... 61051.92 61072.72 54895.32\n",
              "2021-09-30 55891.20 58944.89 59828.87  ... 60959.16 62326.81 54159.37\n",
              "2021-10-31 45687.75 59084.25 60201.29  ... 60834.95 61186.06 54162.97\n",
              "2021-11-30 48633.55 59366.51 59435.07  ... 60678.89 63122.50 53555.24\n",
              "2021-12-31 47735.95 62755.38 60469.59  ... 60490.88 66765.71 53703.37\n",
              "\n",
              "[15 rows x 8 columns]"
            ]
          },
          "metadata": {
            "tags": []
          },
          "execution_count": 43
        }
      ]
    },
    {
      "cell_type": "code",
      "metadata": {
        "colab": {
          "base_uri": "https://localhost:8080/",
          "height": 142
        },
        "id": "8RpFtxplLGOv",
        "outputId": "39a47289-64af-47fd-a844-68a8a0d4adcc"
      },
      "source": [
        "pd.options.display.float_format = \"{:.2f}\".format\r\n",
        "\r\n",
        "performance"
      ],
      "execution_count": 8,
      "outputs": [
        {
          "output_type": "execute_result",
          "data": {
            "text/html": [
              "<div>\n",
              "<style scoped>\n",
              "    .dataframe tbody tr th:only-of-type {\n",
              "        vertical-align: middle;\n",
              "    }\n",
              "\n",
              "    .dataframe tbody tr th {\n",
              "        vertical-align: top;\n",
              "    }\n",
              "\n",
              "    .dataframe thead th {\n",
              "        text-align: right;\n",
              "    }\n",
              "</style>\n",
              "<table border=\"1\" class=\"dataframe\">\n",
              "  <thead>\n",
              "    <tr style=\"text-align: right;\">\n",
              "      <th></th>\n",
              "      <th>Target</th>\n",
              "      <th>Gluonts</th>\n",
              "      <th>Prophet</th>\n",
              "      <th>NBEATS</th>\n",
              "      <th>TBAT</th>\n",
              "      <th>TATS</th>\n",
              "      <th>TBATS1</th>\n",
              "      <th>TBATP1</th>\n",
              "      <th>TBATS2</th>\n",
              "    </tr>\n",
              "  </thead>\n",
              "  <tbody>\n",
              "    <tr>\n",
              "      <th>rmse</th>\n",
              "      <td>0.00</td>\n",
              "      <td>23660.12</td>\n",
              "      <td>6487.21</td>\n",
              "      <td>4297.00</td>\n",
              "      <td>9778.17</td>\n",
              "      <td>9778.17</td>\n",
              "      <td>9778.17</td>\n",
              "      <td>4419.52</td>\n",
              "      <td>9778.17</td>\n",
              "    </tr>\n",
              "    <tr>\n",
              "      <th>mse</th>\n",
              "      <td>0.00</td>\n",
              "      <td>559801089.82</td>\n",
              "      <td>42083883.74</td>\n",
              "      <td>18464178.45</td>\n",
              "      <td>95612631.39</td>\n",
              "      <td>95612631.39</td>\n",
              "      <td>95612631.39</td>\n",
              "      <td>19532117.01</td>\n",
              "      <td>95612631.39</td>\n",
              "    </tr>\n",
              "    <tr>\n",
              "      <th>mean</th>\n",
              "      <td>49177.81</td>\n",
              "      <td>71152.52</td>\n",
              "      <td>55171.65</td>\n",
              "      <td>48666.10</td>\n",
              "      <td>58376.80</td>\n",
              "      <td>58376.80</td>\n",
              "      <td>58376.80</td>\n",
              "      <td>52066.09</td>\n",
              "      <td>58376.80</td>\n",
              "    </tr>\n",
              "  </tbody>\n",
              "</table>\n",
              "</div>"
            ],
            "text/plain": [
              "       Target      Gluonts     Prophet  ...      TBATS1      TBATP1      TBATS2\n",
              "rmse     0.00     23660.12     6487.21  ...     9778.17     4419.52     9778.17\n",
              "mse      0.00 559801089.82 42083883.74  ... 95612631.39 19532117.01 95612631.39\n",
              "mean 49177.81     71152.52    55171.65  ...    58376.80    52066.09    58376.80\n",
              "\n",
              "[3 rows x 9 columns]"
            ]
          },
          "metadata": {
            "tags": []
          },
          "execution_count": 8
        }
      ]
    },
    {
      "cell_type": "code",
      "metadata": {
        "colab": {
          "base_uri": "https://localhost:8080/",
          "height": 296
        },
        "id": "sVx7HtF-MLyD",
        "outputId": "ab801672-3d73-4c9a-cb88-7e9c61e4ae12"
      },
      "source": [
        "forecast_in[[\"TBATP1\",\"NBEATS\",\"Target\"]].plot()"
      ],
      "execution_count": 41,
      "outputs": [
        {
          "output_type": "execute_result",
          "data": {
            "text/plain": [
              "<matplotlib.axes._subplots.AxesSubplot at 0x7fcf182a6940>"
            ]
          },
          "metadata": {
            "tags": []
          },
          "execution_count": 41
        },
        {
          "output_type": "display_data",
          "data": {
            "image/png": "[encoded data removed]",
            "text/plain": [
              "<Figure size 792x288 with 1 Axes>"
            ]
          },
          "metadata": {
            "tags": [],
            "needs_background": "light"
          }
        }
      ]
    },
    {
      "cell_type": "code",
      "metadata": {
        "colab": {
          "base_uri": "https://localhost:8080/",
          "height": 294
        },
        "id": "4r4dKErqdGM3",
        "outputId": "a6673bcf-16b9-485f-c1bb-50dc8c9736a9"
      },
      "source": [
        "# compare two best models\r\n",
        "forecast_out[[\"TBATP1\",\"NBEATS\"]].plot()"
      ],
      "execution_count": 13,
      "outputs": [
        {
          "output_type": "execute_result",
          "data": {
            "text/plain": [
              "<matplotlib.axes._subplots.AxesSubplot at 0x7fcf22aedc88>"
            ]
          },
          "metadata": {
            "tags": []
          },
          "execution_count": 13
        },
        {
          "output_type": "display_data",
          "data": {
            "image/png": "[encoded data removed]",
            "text/plain": [
              "<Figure size 792x288 with 1 Axes>"
            ]
          },
          "metadata": {
            "tags": [],
            "needs_background": "light"
          }
        }
      ]
    },
    {
      "cell_type": "code",
      "metadata": {
        "colab": {
          "base_uri": "https://localhost:8080/",
          "height": 542
        },
        "id": "f6ciXAU0exkP",
        "outputId": "8c9247ab-539b-4a61-8976-0385c6f33b48"
      },
      "source": [
        "import plotly.express as px\r\n",
        "import plotly.graph_objects as go\r\n",
        "\r\n",
        "y = forecast_out['TBATP1'].astype(int)\r\n",
        "\r\n",
        "\r\n",
        "fig = px.line(forecast_out, x=forecast_out.index, y=y, title='Neto Plate Prognoza od oktobra 2020 do decembra 2021',text=y)\r\n",
        "\r\n",
        "fig.show()\r\n",
        "\r\n"
      ],
      "execution_count": 42,
      "outputs": [
        {
          "output_type": "display_data",
          "data": {
            "text/html": [
              "<html>\n",
              "<head><meta charset=\"utf-8\" /></head>\n",
              "<body>\n",
              "    <div>\n",
              "            <script src=\"https://cdnjs.cloudflare.com/ajax/libs/mathjax/2.7.5/MathJax.js?config=TeX-AMS-MML_SVG\"></script><script type=\"text/javascript\">if (window.MathJax) {MathJax.Hub.Config({SVG: {font: \"STIX-Web\"}});}</script>\n",
              "                <script type=\"text/javascript\">window.PlotlyConfig = {MathJaxConfig: 'local'};</script>\n",
              "        <script src=\"https://cdn.plot.ly/plotly-latest.min.js\"></script>    \n",
              "            <div id=\"e62dd106-06c5-4fc7-9c8a-0f231530fda5\" class=\"plotly-graph-div\" style=\"height:525px; width:100%;\"></div>\n",
              "            <script type=\"text/javascript\">\n",
              "                \n",
              "                    window.PLOTLYENV=window.PLOTLYENV || {};\n",
              "                    \n",
              "                if (document.getElementById(\"e62dd106-06c5-4fc7-9c8a-0f231530fda5\")) {\n",
              "                    Plotly.newPlot(\n",
              "                        'e62dd106-06c5-4fc7-9c8a-0f231530fda5',\n",
              "                        [{\"hoverlabel\": {\"namelength\": 0}, \"hovertemplate\": \"x=%{x}<br>y=%{y}<br>text=%{text}\", \"legendgroup\": \"\", \"line\": {\"color\": \"#636efa\", \"dash\": \"solid\"}, \"mode\": \"lines+markers+text\", \"name\": \"\", \"showlegend\": false, \"text\": [59316.0, 61260.0, 64881.0, 58901.0, 59473.0, 61459.0, 61609.0, 61435.0, 60956.0, 62826.0, 61072.0, 62326.0, 61186.0, 63122.0, 66765.0], \"type\": \"scatter\", \"x\": [\"2020-10-31T00:00:00\", \"2020-11-30T00:00:00\", \"2020-12-31T00:00:00\", \"2021-01-31T00:00:00\", \"2021-02-28T00:00:00\", \"2021-03-31T00:00:00\", \"2021-04-30T00:00:00\", \"2021-05-31T00:00:00\", \"2021-06-30T00:00:00\", \"2021-07-31T00:00:00\", \"2021-08-31T00:00:00\", \"2021-09-30T00:00:00\", \"2021-10-31T00:00:00\", \"2021-11-30T00:00:00\", \"2021-12-31T00:00:00\"], \"xaxis\": \"x\", \"y\": [59316, 61260, 64881, 58901, 59473, 61459, 61609, 61435, 60956, 62826, 61072, 62326, 61186, 63122, 66765], \"yaxis\": \"y\"}],\n",
              "                        {\"legend\": {\"tracegroupgap\": 0}, \"template\": {\"data\": {\"bar\": [{\"error_x\": {\"color\": \"#2a3f5f\"}, \"error_y\": {\"color\": \"#2a3f5f\"}, \"marker\": {\"line\": {\"color\": \"#E5ECF6\", \"width\": 0.5}}, \"type\": \"bar\"}], \"barpolar\": [{\"marker\": {\"line\": {\"color\": \"#E5ECF6\", \"width\": 0.5}}, \"type\": \"barpolar\"}], \"carpet\": [{\"aaxis\": {\"endlinecolor\": \"#2a3f5f\", \"gridcolor\": \"white\", \"linecolor\": \"white\", \"minorgridcolor\": \"white\", \"startlinecolor\": \"#2a3f5f\"}, \"baxis\": {\"endlinecolor\": \"#2a3f5f\", \"gridcolor\": \"white\", \"linecolor\": \"white\", \"minorgridcolor\": \"white\", \"startlinecolor\": \"#2a3f5f\"}, \"type\": \"carpet\"}], \"choropleth\": [{\"colorbar\": {\"outlinewidth\": 0, \"ticks\": \"\"}, \"type\": \"choropleth\"}], \"contour\": [{\"colorbar\": {\"outlinewidth\": 0, \"ticks\": \"\"}, \"colorscale\": [[0.0, \"#0d0887\"], [0.1111111111111111, \"#46039f\"], [0.2222222222222222, \"#7201a8\"], [0.3333333333333333, \"#9c179e\"], [0.4444444444444444, \"#bd3786\"], [0.5555555555555556, \"#d8576b\"], [0.6666666666666666, \"#ed7953\"], [0.7777777777777778, \"#fb9f3a\"], [0.8888888888888888, \"#fdca26\"], [1.0, \"#f0f921\"]], \"type\": \"contour\"}], \"contourcarpet\": [{\"colorbar\": {\"outlinewidth\": 0, \"ticks\": \"\"}, \"type\": \"contourcarpet\"}], \"heatmap\": [{\"colorbar\": {\"outlinewidth\": 0, \"ticks\": \"\"}, \"colorscale\": [[0.0, \"#0d0887\"], [0.1111111111111111, \"#46039f\"], [0.2222222222222222, \"#7201a8\"], [0.3333333333333333, \"#9c179e\"], [0.4444444444444444, \"#bd3786\"], [0.5555555555555556, \"#d8576b\"], [0.6666666666666666, \"#ed7953\"], [0.7777777777777778, \"#fb9f3a\"], [0.8888888888888888, \"#fdca26\"], [1.0, \"#f0f921\"]], \"type\": \"heatmap\"}], \"heatmapgl\": [{\"colorbar\": {\"outlinewidth\": 0, \"ticks\": \"\"}, \"colorscale\": [[0.0, \"#0d0887\"], [0.1111111111111111, \"#46039f\"], [0.2222222222222222, \"#7201a8\"], [0.3333333333333333, \"#9c179e\"], [0.4444444444444444, \"#bd3786\"], [0.5555555555555556, \"#d8576b\"], [0.6666666666666666, \"#ed7953\"], [0.7777777777777778, \"#fb9f3a\"], [0.8888888888888888, \"#fdca26\"], [1.0, \"#f0f921\"]], \"type\": \"heatmapgl\"}], \"histogram\": [{\"marker\": {\"colorbar\": {\"outlinewidth\": 0, \"ticks\": \"\"}}, \"type\": \"histogram\"}], \"histogram2d\": [{\"colorbar\": {\"outlinewidth\": 0, \"ticks\": \"\"}, \"colorscale\": [[0.0, \"#0d0887\"], [0.1111111111111111, \"#46039f\"], [0.2222222222222222, \"#7201a8\"], [0.3333333333333333, \"#9c179e\"], [0.4444444444444444, \"#bd3786\"], [0.5555555555555556, \"#d8576b\"], [0.6666666666666666, \"#ed7953\"], [0.7777777777777778, \"#fb9f3a\"], [0.8888888888888888, \"#fdca26\"], [1.0, \"#f0f921\"]], \"type\": \"histogram2d\"}], \"histogram2dcontour\": [{\"colorbar\": {\"outlinewidth\": 0, \"ticks\": \"\"}, \"colorscale\": [[0.0, \"#0d0887\"], [0.1111111111111111, \"#46039f\"], [0.2222222222222222, \"#7201a8\"], [0.3333333333333333, \"#9c179e\"], [0.4444444444444444, \"#bd3786\"], [0.5555555555555556, \"#d8576b\"], [0.6666666666666666, \"#ed7953\"], [0.7777777777777778, \"#fb9f3a\"], [0.8888888888888888, \"#fdca26\"], [1.0, \"#f0f921\"]], \"type\": \"histogram2dcontour\"}], \"mesh3d\": [{\"colorbar\": {\"outlinewidth\": 0, \"ticks\": \"\"}, \"type\": \"mesh3d\"}], \"parcoords\": [{\"line\": {\"colorbar\": {\"outlinewidth\": 0, \"ticks\": \"\"}}, \"type\": \"parcoords\"}], \"pie\": [{\"automargin\": true, \"type\": \"pie\"}], \"scatter\": [{\"marker\": {\"colorbar\": {\"outlinewidth\": 0, \"ticks\": \"\"}}, \"type\": \"scatter\"}], \"scatter3d\": [{\"line\": {\"colorbar\": {\"outlinewidth\": 0, \"ticks\": \"\"}}, \"marker\": {\"colorbar\": {\"outlinewidth\": 0, \"ticks\": \"\"}}, \"type\": \"scatter3d\"}], \"scattercarpet\": [{\"marker\": {\"colorbar\": {\"outlinewidth\": 0, \"ticks\": \"\"}}, \"type\": \"scattercarpet\"}], \"scattergeo\": [{\"marker\": {\"colorbar\": {\"outlinewidth\": 0, \"ticks\": \"\"}}, \"type\": \"scattergeo\"}], \"scattergl\": [{\"marker\": {\"colorbar\": {\"outlinewidth\": 0, \"ticks\": \"\"}}, \"type\": \"scattergl\"}], \"scattermapbox\": [{\"marker\": {\"colorbar\": {\"outlinewidth\": 0, \"ticks\": \"\"}}, \"type\": \"scattermapbox\"}], \"scatterpolar\": [{\"marker\": {\"colorbar\": {\"outlinewidth\": 0, \"ticks\": \"\"}}, \"type\": \"scatterpolar\"}], \"scatterpolargl\": [{\"marker\": {\"colorbar\": {\"outlinewidth\": 0, \"ticks\": \"\"}}, \"type\": \"scatterpolargl\"}], \"scatterternary\": [{\"marker\": {\"colorbar\": {\"outlinewidth\": 0, \"ticks\": \"\"}}, \"type\": \"scatterternary\"}], \"surface\": [{\"colorbar\": {\"outlinewidth\": 0, \"ticks\": \"\"}, \"colorscale\": [[0.0, \"#0d0887\"], [0.1111111111111111, \"#46039f\"], [0.2222222222222222, \"#7201a8\"], [0.3333333333333333, \"#9c179e\"], [0.4444444444444444, \"#bd3786\"], [0.5555555555555556, \"#d8576b\"], [0.6666666666666666, \"#ed7953\"], [0.7777777777777778, \"#fb9f3a\"], [0.8888888888888888, \"#fdca26\"], [1.0, \"#f0f921\"]], \"type\": \"surface\"}], \"table\": [{\"cells\": {\"fill\": {\"color\": \"#EBF0F8\"}, \"line\": {\"color\": \"white\"}}, \"header\": {\"fill\": {\"color\": \"#C8D4E3\"}, \"line\": {\"color\": \"white\"}}, \"type\": \"table\"}]}, \"layout\": {\"annotationdefaults\": {\"arrowcolor\": \"#2a3f5f\", \"arrowhead\": 0, \"arrowwidth\": 1}, \"coloraxis\": {\"colorbar\": {\"outlinewidth\": 0, \"ticks\": \"\"}}, \"colorscale\": {\"diverging\": [[0, \"#8e0152\"], [0.1, \"#c51b7d\"], [0.2, \"#de77ae\"], [0.3, \"#f1b6da\"], [0.4, \"#fde0ef\"], [0.5, \"#f7f7f7\"], [0.6, \"#e6f5d0\"], [0.7, \"#b8e186\"], [0.8, \"#7fbc41\"], [0.9, \"#4d9221\"], [1, \"#276419\"]], \"sequential\": [[0.0, \"#0d0887\"], [0.1111111111111111, \"#46039f\"], [0.2222222222222222, \"#7201a8\"], [0.3333333333333333, \"#9c179e\"], [0.4444444444444444, \"#bd3786\"], [0.5555555555555556, \"#d8576b\"], [0.6666666666666666, \"#ed7953\"], [0.7777777777777778, \"#fb9f3a\"], [0.8888888888888888, \"#fdca26\"], [1.0, \"#f0f921\"]], \"sequentialminus\": [[0.0, \"#0d0887\"], [0.1111111111111111, \"#46039f\"], [0.2222222222222222, \"#7201a8\"], [0.3333333333333333, \"#9c179e\"], [0.4444444444444444, \"#bd3786\"], [0.5555555555555556, \"#d8576b\"], [0.6666666666666666, \"#ed7953\"], [0.7777777777777778, \"#fb9f3a\"], [0.8888888888888888, \"#fdca26\"], [1.0, \"#f0f921\"]]}, \"colorway\": [\"#636efa\", \"#EF553B\", \"#00cc96\", \"#ab63fa\", \"#FFA15A\", \"#19d3f3\", \"#FF6692\", \"#B6E880\", \"#FF97FF\", \"#FECB52\"], \"font\": {\"color\": \"#2a3f5f\"}, \"geo\": {\"bgcolor\": \"white\", \"lakecolor\": \"white\", \"landcolor\": \"#E5ECF6\", \"showlakes\": true, \"showland\": true, \"subunitcolor\": \"white\"}, \"hoverlabel\": {\"align\": \"left\"}, \"hovermode\": \"closest\", \"mapbox\": {\"style\": \"light\"}, \"paper_bgcolor\": \"white\", \"plot_bgcolor\": \"#E5ECF6\", \"polar\": {\"angularaxis\": {\"gridcolor\": \"white\", \"linecolor\": \"white\", \"ticks\": \"\"}, \"bgcolor\": \"#E5ECF6\", \"radialaxis\": {\"gridcolor\": \"white\", \"linecolor\": \"white\", \"ticks\": \"\"}}, \"scene\": {\"xaxis\": {\"backgroundcolor\": \"#E5ECF6\", \"gridcolor\": \"white\", \"gridwidth\": 2, \"linecolor\": \"white\", \"showbackground\": true, \"ticks\": \"\", \"zerolinecolor\": \"white\"}, \"yaxis\": {\"backgroundcolor\": \"#E5ECF6\", \"gridcolor\": \"white\", \"gridwidth\": 2, \"linecolor\": \"white\", \"showbackground\": true, \"ticks\": \"\", \"zerolinecolor\": \"white\"}, \"zaxis\": {\"backgroundcolor\": \"#E5ECF6\", \"gridcolor\": \"white\", \"gridwidth\": 2, \"linecolor\": \"white\", \"showbackground\": true, \"ticks\": \"\", \"zerolinecolor\": \"white\"}}, \"shapedefaults\": {\"line\": {\"color\": \"#2a3f5f\"}}, \"ternary\": {\"aaxis\": {\"gridcolor\": \"white\", \"linecolor\": \"white\", \"ticks\": \"\"}, \"baxis\": {\"gridcolor\": \"white\", \"linecolor\": \"white\", \"ticks\": \"\"}, \"bgcolor\": \"#E5ECF6\", \"caxis\": {\"gridcolor\": \"white\", \"linecolor\": \"white\", \"ticks\": \"\"}}, \"title\": {\"x\": 0.05}, \"xaxis\": {\"automargin\": true, \"gridcolor\": \"white\", \"linecolor\": \"white\", \"ticks\": \"\", \"title\": {\"standoff\": 15}, \"zerolinecolor\": \"white\", \"zerolinewidth\": 2}, \"yaxis\": {\"automargin\": true, \"gridcolor\": \"white\", \"linecolor\": \"white\", \"ticks\": \"\", \"title\": {\"standoff\": 15}, \"zerolinecolor\": \"white\", \"zerolinewidth\": 2}}}, \"title\": {\"text\": \"Neto Plate Prognoza od oktobra 2020 do decembra 2021\"}, \"xaxis\": {\"anchor\": \"y\", \"domain\": [0.0, 1.0], \"title\": {\"text\": \"x\"}}, \"yaxis\": {\"anchor\": \"x\", \"domain\": [0.0, 1.0], \"title\": {\"text\": \"y\"}}},\n",
              "                        {\"responsive\": true}\n",
              "                    ).then(function(){\n",
              "                            \n",
              "var gd = document.getElementById('e62dd106-06c5-4fc7-9c8a-0f231530fda5');\n",
              "var x = new MutationObserver(function (mutations, observer) {{\n",
              "        var display = window.getComputedStyle(gd).display;\n",
              "        if (!display || display === 'none') {{\n",
              "            console.log([gd, 'removed!']);\n",
              "            Plotly.purge(gd);\n",
              "            observer.disconnect();\n",
              "        }}\n",
              "}});\n",
              "\n",
              "// Listen for the removal of the full notebook cells\n",
              "var notebookContainer = gd.closest('#notebook-container');\n",
              "if (notebookContainer) {{\n",
              "    x.observe(notebookContainer, {childList: true});\n",
              "}}\n",
              "\n",
              "// Listen for the clearing of the current output cell\n",
              "var outputEl = gd.closest('.output');\n",
              "if (outputEl) {{\n",
              "    x.observe(outputEl, {childList: true});\n",
              "}}\n",
              "\n",
              "                        })\n",
              "                };\n",
              "                \n",
              "            </script>\n",
              "        </div>\n",
              "</body>\n",
              "</html>"
            ]
          },
          "metadata": {
            "tags": []
          }
        }
      ]
    },
    {
      "cell_type": "code",
      "metadata": {
        "colab": {
          "base_uri": "https://localhost:8080/",
          "height": 235
        },
        "id": "3Iic9ThzUHij",
        "outputId": "4cc0f5f8-dafa-4e54-a4b8-5cf3882928c5"
      },
      "source": [
        "forecast_in.tail()"
      ],
      "execution_count": 40,
      "outputs": [
        {
          "output_type": "execute_result",
          "data": {
            "text/html": [
              "<div>\n",
              "<style scoped>\n",
              "    .dataframe tbody tr th:only-of-type {\n",
              "        vertical-align: middle;\n",
              "    }\n",
              "\n",
              "    .dataframe tbody tr th {\n",
              "        vertical-align: top;\n",
              "    }\n",
              "\n",
              "    .dataframe thead th {\n",
              "        text-align: right;\n",
              "    }\n",
              "</style>\n",
              "<table border=\"1\" class=\"dataframe\">\n",
              "  <thead>\n",
              "    <tr style=\"text-align: right;\">\n",
              "      <th></th>\n",
              "      <th>Target</th>\n",
              "      <th>Gluonts</th>\n",
              "      <th>Prophet</th>\n",
              "      <th>NBEATS</th>\n",
              "      <th>TBAT</th>\n",
              "      <th>TATS</th>\n",
              "      <th>TBATS1</th>\n",
              "      <th>TBATP1</th>\n",
              "      <th>TBATS2</th>\n",
              "    </tr>\n",
              "    <tr>\n",
              "      <th>Date</th>\n",
              "      <th></th>\n",
              "      <th></th>\n",
              "      <th></th>\n",
              "      <th></th>\n",
              "      <th></th>\n",
              "      <th></th>\n",
              "      <th></th>\n",
              "      <th></th>\n",
              "      <th></th>\n",
              "    </tr>\n",
              "  </thead>\n",
              "  <tbody>\n",
              "    <tr>\n",
              "      <th>2020-05-31</th>\n",
              "      <td>58892</td>\n",
              "      <td>89427.65</td>\n",
              "      <td>63560.57</td>\n",
              "      <td>49382.29</td>\n",
              "      <td>64958.20</td>\n",
              "      <td>64958.20</td>\n",
              "      <td>64958.20</td>\n",
              "      <td>55351.69</td>\n",
              "      <td>64958.20</td>\n",
              "    </tr>\n",
              "    <tr>\n",
              "      <th>2020-06-30</th>\n",
              "      <td>59740</td>\n",
              "      <td>89218.53</td>\n",
              "      <td>64226.76</td>\n",
              "      <td>51944.49</td>\n",
              "      <td>65059.18</td>\n",
              "      <td>65059.18</td>\n",
              "      <td>65059.18</td>\n",
              "      <td>54975.08</td>\n",
              "      <td>65059.18</td>\n",
              "    </tr>\n",
              "    <tr>\n",
              "      <th>2020-07-31</th>\n",
              "      <td>60029</td>\n",
              "      <td>90393.14</td>\n",
              "      <td>64464.11</td>\n",
              "      <td>52302.95</td>\n",
              "      <td>65158.07</td>\n",
              "      <td>65158.07</td>\n",
              "      <td>65158.07</td>\n",
              "      <td>56671.28</td>\n",
              "      <td>65158.07</td>\n",
              "    </tr>\n",
              "    <tr>\n",
              "      <th>2020-08-31</th>\n",
              "      <td>58513</td>\n",
              "      <td>89986.12</td>\n",
              "      <td>64695.44</td>\n",
              "      <td>55470.11</td>\n",
              "      <td>65254.89</td>\n",
              "      <td>65254.89</td>\n",
              "      <td>65254.89</td>\n",
              "      <td>55188.71</td>\n",
              "      <td>65254.89</td>\n",
              "    </tr>\n",
              "    <tr>\n",
              "      <th>2020-09-30</th>\n",
              "      <td>59698</td>\n",
              "      <td>89680.90</td>\n",
              "      <td>64396.81</td>\n",
              "      <td>49166.12</td>\n",
              "      <td>65349.69</td>\n",
              "      <td>65349.69</td>\n",
              "      <td>65349.69</td>\n",
              "      <td>56278.24</td>\n",
              "      <td>65349.69</td>\n",
              "    </tr>\n",
              "  </tbody>\n",
              "</table>\n",
              "</div>"
            ],
            "text/plain": [
              "            Target  Gluonts  Prophet  ...   TBATS1   TBATP1   TBATS2\n",
              "Date                                  ...                           \n",
              "2020-05-31   58892 89427.65 63560.57  ... 64958.20 55351.69 64958.20\n",
              "2020-06-30   59740 89218.53 64226.76  ... 65059.18 54975.08 65059.18\n",
              "2020-07-31   60029 90393.14 64464.11  ... 65158.07 56671.28 65158.07\n",
              "2020-08-31   58513 89986.12 64695.44  ... 65254.89 55188.71 65254.89\n",
              "2020-09-30   59698 89680.90 64396.81  ... 65349.69 56278.24 65349.69\n",
              "\n",
              "[5 rows x 9 columns]"
            ]
          },
          "metadata": {
            "tags": []
          },
          "execution_count": 40
        }
      ]
    }
  ]
}